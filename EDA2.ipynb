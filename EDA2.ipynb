{
 "cells": [
  {
   "cell_type": "code",
<<<<<<< HEAD
   "execution_count": 1,
=======
   "execution_count": 14,
>>>>>>> a87557f2f11f6bb3eb04890ee68200a6e14c1a59
   "id": "c3890f59",
   "metadata": {},
   "outputs": [
    {
     "name": "stdout",
     "output_type": "stream",
     "text": [
      "(20000, 11)\n"
     ]
    },
    {
     "data": {
      "text/html": [
       "<div>\n",
       "<style scoped>\n",
       "    .dataframe tbody tr th:only-of-type {\n",
       "        vertical-align: middle;\n",
       "    }\n",
       "\n",
       "    .dataframe tbody tr th {\n",
       "        vertical-align: top;\n",
       "    }\n",
       "\n",
       "    .dataframe thead th {\n",
       "        text-align: right;\n",
       "    }\n",
       "</style>\n",
       "<table border=\"1\" class=\"dataframe\">\n",
       "  <thead>\n",
       "    <tr style=\"text-align: right;\">\n",
       "      <th></th>\n",
       "      <th>Unnamed: 0</th>\n",
       "      <th>post_id</th>\n",
       "      <th>post_created</th>\n",
       "      <th>post_text</th>\n",
       "      <th>user_id</th>\n",
       "      <th>followers</th>\n",
       "      <th>friends</th>\n",
       "      <th>favourites</th>\n",
       "      <th>statuses</th>\n",
       "      <th>retweets</th>\n",
       "      <th>label</th>\n",
       "    </tr>\n",
       "  </thead>\n",
       "  <tbody>\n",
       "    <tr>\n",
       "      <th>0</th>\n",
       "      <td>0</td>\n",
       "      <td>637894677824413696</td>\n",
       "      <td>Sun Aug 30 07:48:37 +0000 2015</td>\n",
       "      <td>It's just over 2 years since I was diagnosed w...</td>\n",
       "      <td>1013187241</td>\n",
       "      <td>84</td>\n",
       "      <td>211</td>\n",
       "      <td>251</td>\n",
       "      <td>837</td>\n",
       "      <td>0</td>\n",
       "      <td>1</td>\n",
       "    </tr>\n",
       "    <tr>\n",
       "      <th>1</th>\n",
       "      <td>1</td>\n",
       "      <td>637890384576778240</td>\n",
       "      <td>Sun Aug 30 07:31:33 +0000 2015</td>\n",
       "      <td>It's Sunday, I need a break, so I'm planning t...</td>\n",
       "      <td>1013187241</td>\n",
       "      <td>84</td>\n",
       "      <td>211</td>\n",
       "      <td>251</td>\n",
       "      <td>837</td>\n",
       "      <td>1</td>\n",
       "      <td>1</td>\n",
       "    </tr>\n",
       "    <tr>\n",
       "      <th>2</th>\n",
       "      <td>2</td>\n",
       "      <td>637749345908051968</td>\n",
       "      <td>Sat Aug 29 22:11:07 +0000 2015</td>\n",
       "      <td>Awake but tired. I need to sleep but my brain ...</td>\n",
       "      <td>1013187241</td>\n",
       "      <td>84</td>\n",
       "      <td>211</td>\n",
       "      <td>251</td>\n",
       "      <td>837</td>\n",
       "      <td>0</td>\n",
       "      <td>1</td>\n",
       "    </tr>\n",
       "    <tr>\n",
       "      <th>3</th>\n",
       "      <td>3</td>\n",
       "      <td>637696421077123073</td>\n",
       "      <td>Sat Aug 29 18:40:49 +0000 2015</td>\n",
       "      <td>RT @SewHQ: #Retro bears make perfect gifts and...</td>\n",
       "      <td>1013187241</td>\n",
       "      <td>84</td>\n",
       "      <td>211</td>\n",
       "      <td>251</td>\n",
       "      <td>837</td>\n",
       "      <td>2</td>\n",
       "      <td>1</td>\n",
       "    </tr>\n",
       "    <tr>\n",
       "      <th>4</th>\n",
       "      <td>4</td>\n",
       "      <td>637696327485366272</td>\n",
       "      <td>Sat Aug 29 18:40:26 +0000 2015</td>\n",
       "      <td>It’s hard to say whether packing lists are mak...</td>\n",
       "      <td>1013187241</td>\n",
       "      <td>84</td>\n",
       "      <td>211</td>\n",
       "      <td>251</td>\n",
       "      <td>837</td>\n",
       "      <td>1</td>\n",
       "      <td>1</td>\n",
       "    </tr>\n",
       "  </tbody>\n",
       "</table>\n",
       "</div>"
      ],
      "text/plain": [
       "   Unnamed: 0             post_id                    post_created  \\\n",
       "0           0  637894677824413696  Sun Aug 30 07:48:37 +0000 2015   \n",
       "1           1  637890384576778240  Sun Aug 30 07:31:33 +0000 2015   \n",
       "2           2  637749345908051968  Sat Aug 29 22:11:07 +0000 2015   \n",
       "3           3  637696421077123073  Sat Aug 29 18:40:49 +0000 2015   \n",
       "4           4  637696327485366272  Sat Aug 29 18:40:26 +0000 2015   \n",
       "\n",
       "                                           post_text     user_id  followers  \\\n",
       "0  It's just over 2 years since I was diagnosed w...  1013187241         84   \n",
       "1  It's Sunday, I need a break, so I'm planning t...  1013187241         84   \n",
       "2  Awake but tired. I need to sleep but my brain ...  1013187241         84   \n",
       "3  RT @SewHQ: #Retro bears make perfect gifts and...  1013187241         84   \n",
       "4  It’s hard to say whether packing lists are mak...  1013187241         84   \n",
       "\n",
       "   friends  favourites  statuses  retweets  label  \n",
       "0      211         251       837         0      1  \n",
       "1      211         251       837         1      1  \n",
       "2      211         251       837         0      1  \n",
       "3      211         251       837         2      1  \n",
       "4      211         251       837         1      1  "
      ]
     },
<<<<<<< HEAD
     "execution_count": 1,
=======
     "execution_count": 14,
>>>>>>> a87557f2f11f6bb3eb04890ee68200a6e14c1a59
     "metadata": {},
     "output_type": "execute_result"
    }
   ],
   "source": [
    "import pandas as pd\n",
    "import numpy as np\n",
    "\n",
    "# Load the data\n",
    "df = pd.read_csv(r'Mental-Health-Twitter.csv')\n",
    "\n",
    "# Show basic info\n",
    "print(df.shape)\n",
    "df.head()\n"
   ]
  },
  {
   "cell_type": "code",
<<<<<<< HEAD
   "execution_count": 2,
=======
   "execution_count": 15,
>>>>>>> a87557f2f11f6bb3eb04890ee68200a6e14c1a59
   "id": "e55218fd",
   "metadata": {},
   "outputs": [],
   "source": [
    "df = df.drop(columns=['Unnamed: 0'])"
   ]
  },
  {
   "cell_type": "code",
<<<<<<< HEAD
   "execution_count": 3,
=======
   "execution_count": 16,
>>>>>>> a87557f2f11f6bb3eb04890ee68200a6e14c1a59
   "id": "e7c5ac36",
   "metadata": {},
   "outputs": [
    {
     "name": "stdout",
     "output_type": "stream",
     "text": [
      "post_id         0\n",
      "post_created    0\n",
      "post_text       0\n",
      "user_id         0\n",
      "followers       0\n",
      "friends         0\n",
      "favourites      0\n",
      "statuses        0\n",
      "retweets        0\n",
      "label           0\n",
      "dtype: int64\n"
     ]
    }
   ],
   "source": [
    "# Check for missing values\n",
    "print(df.isnull().sum())"
   ]
  },
  {
   "cell_type": "code",
<<<<<<< HEAD
   "execution_count": 7,
=======
   "execution_count": 17,
>>>>>>> a87557f2f11f6bb3eb04890ee68200a6e14c1a59
   "id": "ab1f8d0d",
   "metadata": {},
   "outputs": [
    {
     "data": {
      "image/png": "iVBORw0KGgoAAAANSUhEUgAAAmQAAAHHCAYAAAARcURhAAAAOnRFWHRTb2Z0d2FyZQBNYXRwbG90bGliIHZlcnNpb24zLjEwLjEsIGh0dHBzOi8vbWF0cGxvdGxpYi5vcmcvc2/+5QAAAAlwSFlzAAAPYQAAD2EBqD+naQAAObxJREFUeJzt3Qu8TXX+//HPcRe5x6GEYlxK1CHpokQo0y+TakQxkW5UMoPMT0opRcqlIjWiUiMzQ6jEUCmXiOQWqRS/GnRxiXLf/8f7+5+1H3vvs49zP99zzn49H4/t2GuvvfZae93e6/v9ru9OCoVCIQMAAIA3Rfx9NAAAAIRABgAA4BmBDAAAwDMCGQAAgGcEMgAAAM8IZAAAAJ4RyAAAADwjkAEAAHhGIAMAAPCMQJZBDz30kCUlJeXJZ1122WXuEXj//ffdZ//jH//Ik8//05/+ZLVr17b8bP/+/XbrrbdacnKy+2769euXZ99N2bJlc3V9Z9eKFSusRIkS9u233+bYNJH/5fR2lJu0z+qYmtFx+/btm+vzhLxftz69/9/zqv5mdNyMnIO7dOliN9xwQ5bmKSED2ZQpU9yXGzxKlSplNWrUsPbt29u4cePsl19+yZHP+f77792GuWbNGstv8vO8ZcRjjz3m1uOdd95pr7zyit18881pjqtw+fvf/94Sxf/+7//ajTfeaLVq1Yoa/vnnn1uHDh1coKxUqZL7zn744Yc8nz+tD+13d999d6rXsnPxsXHjRrdNf/PNN5m6yCpSpIht37491ev79u2z0qVL50kgWLp0qZufPXv2WG470f6Q1xd/PpY/uGi56667LCUlxYoXL55nF9vxKETr8+vVqxf39QULFoTPVbm9Xl577TUbM2aM5Tbto1qeJ5988oT75o8//mh5KSeWf9CgQfbPf/7TPvvss0y/NyEDWeDhhx92J/MJEyaETw4qaWncuLGtXbs2atwhQ4bYb7/9lunQM2zYsEyHnvnz57tHbjrRvL3wwgu2efNmy88WLVpkF1xwgT344IN20003uQMrzK3Pf//733bHHXdEDf+///s/a9WqlX355ZcuzP7lL3+xt956y6644go7fPiwl3nVdqbtMKcokGmbzmggC5QsWdJef/31VMP/9a9/WV4GEs17XgWS/Cavl//tt9+2F1980Z30zzjjDPNNhQLaNxUUY02bNs29nhfyKpDlV6/lwPKfe+651qxZMxs9enSm35vQgezKK690J/NbbrnFBg8ebO+++647me3atcv+53/+JyqAFStWLNd3il9//dX9VXWTHr7oilEnqfxM66hChQq+ZyPfeemll+z00093YTWSQtiBAwdckL3nnnvsr3/9q73xxhvuKk4ljXntrLPOsmPHjtnjjz9uvl111VVxA5kOzh07dvQyT8hdKlnfu3evffLJJ+6ixLczzzzT6tevn2o7PHjwoM2cOZPtsIBRlaUu6NS0JjMSOpDFc/nll9sDDzzg2t+8+uqrJ2xDpqLkiy++2AUDVQNph9KJLij6b968ufu/Al9Q5Byc/FRMffbZZ9uqVatcycVJJ50Ufm9abUF0AtM4ajdVpkwZFxpjq1pUHaF2TrEip5nevMVrQ6aT+Z///GerWbOmC2taVhU3h0KhqPGC6p1Zs2a55dO4OvnOmzcvw0GrV69eVq1aNReAmzRpYlOnTk1VpbJ161ZXwhPMe2ZLRWJ9+OGHdv3117swo3nWct53331plop+/fXXropb60HV3Sptjf0ujh8/7q62tPxaFi3T7bffbrt37053fsaPH+/ep+2iYsWK7opLASE9+t61DcduqypCVzWVli/Qtm1b+93vfueCWV7T9tW9e/cMl5J9+umn7gKqXLlybl9r06aNLV++PPy6tl2tP2ndunV4u8hI+5CuXbu6ksVNmzaFh+3YscOFV70Wz6FDh1zpbN26dcPby8CBA93wzO4POrYMGDDA/b9OnTqptmmFbK3TqlWruvc3atTIlernpe+++8569uzptuFgGSZPnhw1jkpahw4d6kqry5cv7/aNSy65xN57770TTju95Q9k9ZgSj5ZD1dH5iZoZTJ8+3R03AnPmzHEX6mm1ScrIegmOmdrPH330UTvttNPc8Uj7kErlAjo/6Jiqc1+wDoLzQFbXbU77+OOPXbMLzYOOjZdeeqktWbIkahzNv6qjdY7SOq5cubI7NqR3jjjR8ge0bk70HQYU8nXOVEbIjGKZGjtBqG2Ngo+qDXv37h13nA0bNrgT3DnnnONOxtoZtGKCjaNhw4ZuuDbi2267zW28cuGFF4an8dNPP7mTjBoBqqROO9WJaEPQRqI6agUXnex1UtXJJDMHl4zMWyQFDYU/7XwKS02bNnWliTqI6oDw9NNPR43/0UcfuasD7RQnn3yya5fXuXNn27Ztm9s50qLwo51C36NOYjo4z5gxwwVEVWXce++9bt5VzaywpJ1CIVFOOeUUyw59jg58unLWPKrqQKFIVX16LTYY66CgUqiRI0e6E4NOzkePHnXfa0DhS0FBoVelUgqRzzzzjAsX2k5UEhmPQorGv+6669wy6ypZVeg6GKUVEETrQt/xeeedl2q4theFuljnn3++q75Jj0Kkljs9OkjqkdG2bi+//LIrJdM2khbta9pGFcYUevS9Pf/8825b+eCDD6xFixbuokbfmaajfVfbiQR/T0Tv1bakwBusP50YFfzilUzooKz9Qdu59h99xrp169x+8MUXX7jgkJn94dprr3XvU+mIplGlSpWobVrhSydafaZK6nWS1rQ0H3369LGsOHLkSNz2OSo1irVz5063rQfhUvP1zjvvuGOB2tkFN9To/6oGVLDQcVNtcf/2t7+5CxftTzpuxJPe8mfkO8xr+p70HaZHJ+2M3gSkfVvhVAFKAVy0TeqkrzCe1fUS0H6m9pJqrqD517GrW7du7rgS7I8armNecEwP5j2r6zY9OubG2w5//W9tUSRdIOl8qVCo462WJbhY0QW1jmWycuVKVwWu86r2awUx7UM6XqhZQ1rHpxMtf0a/w4AumnRO1nH+D3/4Q8a/kFACeumll1SUEVq5cmWa45QvXz507rnnhp8/+OCD7j2Bp59+2j3/4Ycf0pyGpq9x9HmxLr30UvfaxIkT476mR+C9995z45566qmhffv2hYe/8cYbbvjYsWPDw2rVqhXq0aNHutM80bzp/ZpOYNasWW7c4cOHR4133XXXhZKSkkJffvlleJjGK1GiRNSwzz77zA0fP3586ETGjBnjxnv11VfDww4fPhxq2bJlqGzZslHLrvnr2LHjCaeXmXF//fXXVMNGjBjhlu/bb7+N+m40j3fffXd42PHjx930tdzB9vDhhx+68aZNmxY1zXnz5qUaHrturrnmmtBZZ50Vyqx///vfbtpz5syJGh6s65dffjnVewYMGOBeO3jwYLrfocZL76H9JDPr45ZbbgmVKlUq9P3330dt6zNmzAiP36lTJ/fdfvXVV+FhGv/kk08OtWrVKjxM79F7NY2MCPZprbO//OUvobp164Zfa968uZs30Th9+vQJv/bKK6+EihQp4tZxJO3LGnfJkiWZ3h9GjRrlhm3dujVD22b79u1DZ5xxRtSw2O0oO+sy8vvv1atXqHr16qEff/wxajpdunRxx8lg/o4ePRo6dOhQ1Di7d+8OVatWLdSzZ8+o4bHbyomWPzvHlIzQus3sqTA4fqf3iHcsjjetYH9v1qyZ+76D707LPXXq1Lj7RUbXS/Dehg0bRq0fnTc0fN26deFh2i8jj/2B7KzbeLSeM/L9/fDf46mOsfXq1XPbvf4f0DLWqVMndMUVV0QNi7Vs2bJUx8Dge4k8XqS1/Jn5DgO/+93vQldeeWUoM6iyTIOS8YnutgzaL7355ptRRcyZoVI1lZ5klKp4dHUYUAlK9erVM1TCkR2aftGiRV0JRCSVTmn/01VZJJXaqU1EQKWIKt1QNV96n6PqWF2FBVQaos9VXbxKQ3JLZAmjipp11aYSQy2fSrRiRd51F1yhqlhfbRBFpWoqVlfRtaYVPHR1p23rREX92rZ0laYrvcxQiauoijNSUO0ar11g0C4yvRtW1LBYxe/pPbSNZoZullHJYlptyVQqp5LqTp06RTW+1navEgWVnOjqPbs0LZXM6jsP/qZVGql1q1KxBg0aRK3boFQjdt1mdX+It23qqlyfpaoavT9eiVZGqFQx3vqLvetN27+qu6+++mr3/8jlVemIPn/16tVuXB0jgravOib+/PPPbt2qZDYYJ6uy+x3mNDXYzsj+oBLdzNA2p5JAHUt0R6W+03glLJlZLwGdayLbJgc1Ixn5DnNr3aqEOd73dnPMXfOqBdqyZYv7fnScC5ZVx2qVIC5evDh8Ho7cX1SKqfHVtEDH1exuh5n5DnUczuxdolRZpkEBIF4xceCPf/yjK8JVX1j333+/2yhU9K6QpCLNjDj11FMz1Xg/9rZoBQFtaNltP5Ue1amrnVRkGIysDort7yqynVLkxple2ylNR8sY+/2l9Tk5SVUfqsKdPXt2qvmMPelp/mLvzFJbLAnWhQ4eel9a25CqENOiKmkFOxXBa/22a9fOHYguuuiiDC1LbFu24AAV275JVB0aOU5aMvrZmaXvUQffSZMmuf0olrrlUPWF2oPE0nahg7DaUapKL7t3RilgqYpIB25dGAQBK5bWrboQSauaPHbdZnV/CKjaQ1U0y5YtS1WVo21MwT+zVC2okBNLVaKx37+aC2j96JHe8qq9p8KK2uNFVump+UF2ZPc7zGm5dVe3qtlUHaaLXF0EqVlM7HE3K+sl3ncYXLhl9DvMjXWr43287fCjjz5Ktc9Jjx490pyW9gUtky4uR4wY4aoz1Vwj8niY1QuYrHyH+tzMdqdCIItDpRNacToZpkUnMKVyXQ2rIaDaEandiQ7iuqLXFUV6cqNRaVobgEoaMjJPOSGtz4kNCvmFvhuVZOmqT2FIJ2Y1WtXOrPZrWSkB1XsUxnRQjedEbd4UNNTtyNy5c912pSvh5557zgVGdQ2QlqAtTezBQaVJ8p///CfVezRMfZKld1etTgAZaUOm0r/MdpyrthtqF/jEE0+4kjBfFHrV1kQnQF1wpXVhpXWrrnGeeuqpuK+rgX9O7Q9fffWVu9jTNqnP07R1EafSZLVzyWrpfEYF01cb17ROhiqtEt0Epf1F61DtS7X9a9l1ctRyFKZjio4VGekuRsf4zARm7atq66TgoyCufT+76yUnvsPcXLcZcfy/yztq1Kg026sFxx11YaUwpjZ0LVu2dN+/zosKu9ndXzLzHeo4nFbfcmkhkMWhk4Oo6PdEdMDWwVIPHSzVtYBOLgppSv053dlgcJUQuRGoeiVyx1Nij9eXj0qXIkt1MjNv6mBUJTaqwo28WgvuSovtgDSrNB01XtdOE3kyzOnPiaUG2WpUrCvAyCq3tO6Q0fypiDooFRO9X4K7clS9ou9MJUtZCd4KhAoFeujAr9JX3dSh7lnS6n5FJ23RzQOxJbEKgLrFP1ZGG+TqrtyMlFCqJCezvXTru9KJRQ31VZUWSfOtRrjx+sXTdqHtJAhA2d3fFMgUehVSg2NAWvOr7kK03+fUPp7WdNSAXyWbKrmNvDrPq7vb9P1rn1cYj1eSEUlVbDrGqMotcnm0TaTHZ8esWaH9MSNNKBSWMtutjLZD1byopFZdsmR3vWRGWushO+s2J5z53+pqVVNnZDvU9x7ZD5hqAjLSx11ObYeqzlXJvW7EyQzakMW5k+ORRx5xxbC6e+JEV0ixghNbUDWkk6rkVGeHuiMtsl2bNjydPHTnSeSGq+4AIq/eVNIS2z1GZuZNBwXt+LpDMJKu0LUBR35+duhz1N2AShojN2zd7airH7WbyQ3BVU/kVY7+P3bs2DTfE/ldaFw9V3s3naRFt6nrO9O2FEvLdKLvPWgLFlCJiO7a0eec6M4uBS+Fk3jBS3ekxW4HCxcudEEy6C7CRxuyyLZkWjbdtRS7blRlq7aakVXzusNM1YvqdkYH6ZzY37Tv6M5lXfUHd2zFo3Wr0lPdDRtL1SVq15JZac17vG1TpfcqAcgL+nxtOyqpWb9+farXI3/pId686u4zVbWmJ6ePlQW1DZmo2YuCjkrF02rSkpn1khlaD/Gq9bKzbnOqivjMM890bRzj9e0Vux3GlljpHJKREv60lj+zdDenQmBaPRekJaFLyFRPr6tsnSB1gFcY006kkhhdkZ6oI1jdHq8qS90Wr/FVX68dSLfZ6iQh2oB0lTNx4kR3NaOVrRKArNa5q2pJ01bDQs2vTh6qVo3smkNXVgpq6pZBJw4VJ6u4ObJBbGbnTQ1H1beTSv90UlTfYKqW1UlSxcKx085OA0+VkqhoXP2zqbRJy6Kiey1rvLYUGaWSxOHDh8dtO6QTvpZBbTd0otUJXge6tNpWaLtQVaKuwvSdaTtStbW6WwiqIhUe1e2FTu5qkKrPUGBTKacahSvs6cAbj8ZVGyaVrqkrFLVXUuDTtpbed3DNNde4jiRj2y9o3vS5Wo/qSkMHNRX/q+otIzeW5FYbsthSssg+5wJab0Gff+r2QO2ctJ3owicywOmCSAdjVX3qoKpq2KD/rozSd5MetXlTn076NQSVVOm70cFexxINV5cw8boYyUibJO1jqlrRtqL9TtuCTsr6v7YnrTcFQS1TvCro3KAbLrSc2tZ1rNHFgS5I1UBapcDBxanaO6kERY3Qta2qpFbHF42fXgeZaS1/ENQyStu89r30+p9TaW9QChpcwATHBx3PT/RTbJHzmxtUxZaRUuaMrpfM0HLpgrh///6uVFwXwloP2Vm3OaFIkSKuzbYu/tVeVMcsXYDqeK3vQMdslSaL5lXrVt+j5k+hUd9HRrpHSWv5M0vHK5XsZ7rT4VACd3sRPHRrcXJysrt1VrexRnavkFa3FwsXLnTdE9SoUcO9X39vvPHG0BdffBH1vjfffDPUqFGjULFixaK6mYi81Tmj3V68/vrrocGDB4eqVq0aKl26tLtFN7JLhsDo0aNdFxklS5YMXXTRRaFPPvkk7i3xac1bbLcX8ssvv4Tuu+8+t5zFixd3tyDrVvXIW5DjdRGQXnccsXbu3Om6G6hSpYr7Xhs3bhy3a47MdnuR1m3VwS3mGzduDLVt29Z1r6HP7t27d/jW+sjP1zKUKVPGdcHQrl270EknneRu/db2cezYsVSfPWnSpFBKSopbX+qmQcszcODAcDcPErtunn/+ededQ+XKld06PPPMM133FHv37k13WVevXu3mObZLBlm/fn14nitUqBDq1q1baMeOHaG8lta627JlS6ho0aKpbu8Plku3vGv9aP5bt24dWrp0aappvPDCC647iGA6J+oCI7LbixOJt02rO5YnnnjC7cNaRxUrVnTrediwYVHrKTP7wyOPPOL2W3WpEdkFxOzZs0PnnHOO6x6kdu3a7nMnT56cqpuIzHR7kda+E697hWC/1HLUrFnT7f86XrZp08Zt3wEdCx577DE3fX0n6jZo7ty5cY8n8bpGSGv5M/od6hilcdXtQ3qC5Yz3yMh3mJNOdC7IifWS1nuDricij2/79+8Pde3a1R0f9Fqw3rK7bmMFn61zSGb2zU8//TR07bXXho+N+uwbbrjBnY8ju+MIziE6Xui4sWnTplTbS7xuL9Ja/sx8h9KiRYvQTTfdFMqsJP2T6fgHIN9Stanuij1ROyigsNGNDiodUfs+lfwCPqhGRJ1zq6Qysx3mEsiAQkZtO9Q/jqpHc+tGCCC/CX45JCM/MQbkluBuzqz8JB2BDAAAwDPusgQAAPCMQAYAAOAZgQwAAMAzAhkAAIBnCd0xbE7SXRXff/+967izoP0MCAAAiSoUCrlfwVF3QWn9hm1eIJDlEIWx2B8VBgAABcP27dvdr+34QiDLIcFP2miFBr+tBwAA8rd9+/a5ApXs/DxfTiCQ5ZCgmlJhjEAGAEDBkuS5uRGN+gEAADwjkAEAAHhGIAMAAPCMQAYAAOAZgQwAAMAzAhkAAIBnBDIAAADPCGQAAACeEcgAAAA8I5ABAAAkciBbvHixXX311e4X1vWTBbNmzUr1C+xDhw616tWrW+nSpa1t27a2ZcuWqHF+/vln69atm/u5ogoVKlivXr1s//79UeOsXbvWLrnkEitVqpT7vaqRI0emmpcZM2ZYgwYN3DiNGze2t99+O5eWGgAAIB8FsgMHDliTJk3s2Wefjfu6gtO4ceNs4sSJ9vHHH1uZMmWsffv2dvDgwfA4CmMbNmywBQsW2Ny5c13Iu+2226J+NLRdu3ZWq1YtW7VqlY0aNcoeeughmzRpUnicpUuX2o033ujC3KeffmqdOnVyj/Xr1+fyNwAAAPD/S6HyBc3KzJkzw8+PHz8eSk5ODo0aNSo8bM+ePaGSJUuGXn/9dfd848aN7n0rV64Mj/POO++EkpKSQt999517/txzz4UqVqwYOnToUHicQYMGherXrx9+fsMNN4Q6duwYNT8tWrQI3X777Rme/71797p50V8AAFAw7M0n5+9824Zs69attmPHDldNGShfvry1aNHCli1b5p7rr6opmzVrFh5H4xcpUsSVqAXjtGrVykqUKBEeR6Vsmzdvtt27d4fHifycYJzgcwAAAHJTMcunFMakWrVqUcP1PHhNf6tWrRr1erFixaxSpUpR49SpUyfVNILXKlas6P6e6HPiOXTokHtEVo0CAAAUqkCW340YMcKGDRuW55+bMuDlPP9MIL9bNaq7FQbs30Dh3b/Tk2+rLJOTk93fnTt3Rg3X8+A1/d21a1fU60ePHnV3XkaOE28akZ+R1jjB6/EMHjzY9u7dG35s3749G0sLAAASWb4NZKpmVCBauHBhVLWg2oa1bNnSPdffPXv2uLsnA4sWLbLjx4+7tmbBOLrz8siRI+FxdEdm/fr1XXVlME7k5wTjBJ8TT8mSJV1XG5EPAACAAhfI1F/YmjVr3CNoyK//b9u2zfVL1q9fPxs+fLjNnj3b1q1bZ927d3d9lqlLCmnYsKF16NDBevfubStWrLAlS5ZY3759rUuXLm486dq1q2vQry4t1D3G9OnTbezYsda/f//wfNx77702b948Gz16tG3atMl1i/HJJ5+4aQEAABTqNmQKPa1btw4/D0JSjx49bMqUKTZw4EDXV5n6FVNJ2MUXX+yCkzpvDUybNs0FpzZt2ri7Kzt37uz6Lou8M3P+/PnWp08fS0lJsSpVqrjOZiP7KrvwwgvttddesyFDhthf//pXq1evnuuk9uyzz86z7wIAACSuJPV94XsmCgNVpyr8qT1ZblZf0ugXKLyNftm/gbzfv/Pq/F1g25ABAAAkCgIZAACAZwQyAAAAzwhkAAAAnhHIAAAAPCOQAQAAeEYgAwAA8IxABgAA4BmBDAAAwDMCGQAAgGcEMgAAAM8IZAAAAJ4RyAAAADwjkAEAAHhGIAMAAPCMQAYAAOAZgQwAAMAzAhkAAIBnBDIAAADPCGQAAACeEcgAAAA8I5ABAAB4RiADAADwjEAGAADgGYEMAADAMwIZAACAZwQyAAAAzwhkAAAAnhHIAAAAPCOQAQAAeEYgAwAA8IxABgAA4BmBDAAAwDMCGQAAgGcEMgAAAM8IZAAAAJ4RyAAAADwjkAEAAHhGIAMAAPCMQAYAAOAZgQwAAMAzAhkAAIBnBDIAAADPCGQAAACeEcgAAAA8I5ABAAB4RiADAADwjEAGAADgGYEMAADAMwIZAACAZwQyAAAAzwhkAAAAnhHIAAAAPCOQAQAAeEYgAwAA8IxABgAA4BmBDAAAwDMCGQAAgGcEMgAAAM8IZAAAAJ7l60B27Ngxe+CBB6xOnTpWunRpO/PMM+2RRx6xUCgUHkf/Hzp0qFWvXt2N07ZtW9uyZUvUdH7++Wfr1q2blStXzipUqGC9evWy/fv3R42zdu1au+SSS6xUqVJWs2ZNGzlyZJ4tJwAASGz5OpA98cQTNmHCBHvmmWfs888/d88VlMaPHx8eR8/HjRtnEydOtI8//tjKlClj7du3t4MHD4bHURjbsGGDLViwwObOnWuLFy+22267Lfz6vn37rF27dlarVi1btWqVjRo1yh566CGbNGlSni8zAABIPMUsH1u6dKldc8011rFjR/e8du3a9vrrr9uKFSvCpWNjxoyxIUOGuPHk5ZdftmrVqtmsWbOsS5cuLsjNmzfPVq5cac2aNXPjKNBdddVV9uSTT1qNGjVs2rRpdvjwYZs8ebKVKFHCzjrrLFuzZo099dRTUcENAAAg4UrILrzwQlu4cKF98cUX7vlnn31mH330kV155ZXu+datW23Hjh2umjJQvnx5a9GihS1btsw9119VUwZhTDR+kSJFXIlaME6rVq1cGAuolG3z5s22e/fuuPN26NAhV7IW+QAAACh0JWT333+/CzoNGjSwokWLujZljz76qKuCFIUxUYlYJD0PXtPfqlWrRr1erFgxq1SpUtQ4aqcWO43gtYoVK6aatxEjRtiwYcNydHkBAEBiytclZG+88YarTnzttdds9erVNnXqVFfNqL++DR482Pbu3Rt+bN++3fcsAQCAAipfl5ANGDDAlZKpLZg0btzYvv32W1c61aNHD0tOTnbDd+7c6e6yDOh506ZN3f81zq5du6Kme/ToUXfnZfB+/dV7IgXPg3FilSxZ0j0AAAAKdQnZr7/+6tp6RVLV5fHjx93/Vc2owKR2ZgFVcaptWMuWLd1z/d2zZ4+7ezKwaNEiNw21NQvG0Z2XR44cCY+jOzLr168ft7oSAAAgYQLZ1Vdf7dqMvfXWW/bNN9/YzJkz3Z2Pf/jDH9zrSUlJ1q9fPxs+fLjNnj3b1q1bZ927d3d3Tnbq1MmN07BhQ+vQoYP17t3b3Z25ZMkS69u3ryt103jStWtX16Bf/ZOpe4zp06fb2LFjrX///l6XHwAAJIZ8XWWp7inUMexdd93lqh0VoG6//XbXEWxg4MCBduDAAdc9hUrCLr74YtfNhTp4DagdmkJYmzZtXIlb586dXd9lkXdmzp8/3/r06WMpKSlWpUoV9xl0eQEAAPJCUiiy23tkmapKFezUwF+/CJBbUga8nGvTBgqqVaO6W2HA/g3k/f6dV+fvAl1lCQAAkAgIZAAAAJ4RyAAAADwjkAEAAHhGIAMAAPCMQAYAAOAZgQwAAMAzAhkAAIBnBDIAAADPCGQAAACeEcgAAAA8I5ABAAB4RiADAADwjEAGAADgGYEMAADAMwIZAACAZwQyAAAAzwhkAAAAnhHIAAAAPCOQAQAAeEYgAwAA8IxABgAA4BmBDAAAwDMCGQAAgGcEMgAAAM8IZAAAAJ4RyAAAADwjkAEAAHhGIAMAAPCMQAYAAOAZgQwAAMAzAhkAAIBnBDIAAADPCGQAAACeEcgAAAA8I5ABAAB4RiADAADwjEAGAADgGYEMAADAMwIZAACAZwQyAAAAzwhkAAAAnhHIAAAAPCOQAQAAeEYgAwAA8IxABgAA4BmBDAAAwDMCGQAAgGcEMgAAAM8IZAAAAJ4RyAAAADwjkAEAAHhGIAMAAPCMQAYAAOAZgQwAAMAzAhkAAIBnBDIAAADPCGQAAACeEcgAAAA8y/eB7LvvvrObbrrJKleubKVLl7bGjRvbJ598En49FArZ0KFDrXr16u71tm3b2pYtW6Km8fPPP1u3bt2sXLlyVqFCBevVq5ft378/apy1a9faJZdcYqVKlbKaNWvayJEj82wZAQBAYsvXgWz37t120UUXWfHixe2dd96xjRs32ujRo61ixYrhcRScxo0bZxMnTrSPP/7YypQpY+3bt7eDBw+Gx1EY27Bhgy1YsMDmzp1rixcvtttuuy38+r59+6xdu3ZWq1YtW7VqlY0aNcoeeughmzRpUp4vMwAASDzFLB974oknXGnVSy+9FB5Wp06dqNKxMWPG2JAhQ+yaa65xw15++WWrVq2azZo1y7p06WKff/65zZs3z1auXGnNmjVz44wfP96uuuoqe/LJJ61GjRo2bdo0O3z4sE2ePNlKlChhZ511lq1Zs8aeeuqpqOAGAACQcCVks2fPdiHq+uuvt6pVq9q5555rL7zwQvj1rVu32o4dO1w1ZaB8+fLWokULW7ZsmXuuv6qmDMKYaPwiRYq4ErVgnFatWrkwFlAp2+bNm10pHQAAQMIGsq+//tomTJhg9erVs3fffdfuvPNOu+eee2zq1KnudYUxUYlYJD0PXtNfhblIxYoVs0qVKkWNE28akZ8R69ChQ66qM/IBAABQ6Kosjx8/7kq2HnvsMfdcJWTr16937cV69Ojhdd5GjBhhw4YN8zoPAACgcMjXJWS6c7JRo0ZRwxo2bGjbtm1z/09OTnZ/d+7cGTWOngev6e+uXbuiXj969Ki78zJynHjTiPyMWIMHD7a9e/eGH9u3b8/m0gIAgESVrwOZ7rBUO65IX3zxhbsbMmjgr8C0cOHC8OuqOlTbsJYtW7rn+rtnzx5392Rg0aJFrvRNbc2CcXTn5ZEjR8Lj6I7M+vXrR93RGalkyZKuG43IBwAAQKELZPfdd58tX77cVVl++eWX9tprr7muKPr06eNeT0pKsn79+tnw4cPdDQDr1q2z7t27uzsnO3XqFC5R69Chg/Xu3dtWrFhhS5Yssb59+7o7MDWedO3a1TXoV/9k6h5j+vTpNnbsWOvfv7/X5QcAAIkhX7cha968uc2cOdNVDz788MOuREzdXKhfscDAgQPtwIEDrnsKlYRdfPHFrpsLdfAaULcWCmFt2rRxd1d27tzZ9V0WeWfm/PnzXdBLSUmxKlWquM5m6fICAADkhaSQOvNCtqmqVMFO7clys/oyZcDLuTZtoKBaNaq7FQbs30De7995df4u0FWWAAAAiYBABgAA4BmBDAAAoCAGsssvv9w1oI9XD6vXAAAAkMuB7P3333c/xh3r4MGD9uGHH2ZlkgAAAAkrU91erF27Nvz/jRs3Rv3O47Fjx1x3E6eeemrOziEAAEAhl6lA1rRpU9cZqx7xqiZLly5t48ePz8n5AwAAKPQyFci2bt1q6rbsjDPOcL3en3LKKeHX1NN91apVrWjRorkxnwAAAIVWpgJZ8BuS+h1IAAAAeP7ppC1btth7771nu3btShXQ9LNDAAAAyMVA9sILL9idd97pfvMxOTnZtSkL6P8EMgAAgFwOZMOHD7dHH33UBg0alJW3AwAAILv9kO3evduuv/76rLwVAAAAORHIFMbmz5+flbcCAAAgJ6os69ataw888IAtX77cGjdubMWLF496/Z577snKZAEAABJSlgLZpEmTrGzZsvbBBx+4RyQ16ieQAQAA5HIgUwexAAAAyBlZakMGAAAAzyVkPXv2POHrkydPzur8AAAAJJxiWe32ItKRI0ds/fr1tmfPnrg/Og4AAIAcDmQzZ85MNUw/n6Te+88888ysTBIAACBh5VgbsiJFilj//v3t6aefzqlJAgAAJIQcbdT/1Vdf2dGjR3NykgAAAIVelqosVRIWKRQK2X/+8x976623rEePHjk1bwAAAAkhS4Hs008/TVVdecopp9jo0aPTvQMTAAAAORDI3nvvvay8DQAAADkVyAI//PCDbd682f2/fv36rpQMAAAAedCo/8CBA65qsnr16taqVSv3qFGjhvXq1ct+/fXXrEwSAAAgYRXJaqN+/aj4nDlzXGewerz55ptu2J///Oecn0sAAIBCLEtVlv/85z/tH//4h1122WXhYVdddZWVLl3abrjhBpswYUJOziMAAEChlqUSMlVLVqtWLdXwqlWrUmUJAACQF4GsZcuW9uCDD9rBgwfDw3777TcbNmyYew0AAAC5XGU5ZswY69Chg5122mnWpEkTN+yzzz6zkiVL2vz587MySQAAgISVpUDWuHFj27Jli02bNs02bdrkht14443WrVs3144MAAAAuRzIRowY4dqQ9e7dO2r45MmTXd9kgwYNyspkAQAAElKW2pA9//zz1qBBg1TDzzrrLJs4cWJOzBcAAEDCyFIg27Fjh+sUNpZ66tePjAMAACCXA1nNmjVtyZIlqYZrmHrsBwAAQC63IVPbsX79+tmRI0fs8ssvd8MWLlxoAwcOpKd+AACAvAhkAwYMsJ9++snuuusuO3z4sBtWqlQp15h/8ODBWZkkAABAwspSIEtKSrInnnjCHnjgAfv8889dVxf16tVz/ZABAAAgDwJZoGzZsta8efPsTAIAACDhZalRPwAAAHIOgQwAAMAzAhkAAIBnBDIAAADPCGQAAACeEcgAAAA8I5ABAAB4RiADAADwjEAGAADgGYEMAADAMwIZAACAZwQyAAAAzwhkAAAAnhHIAAAAPCOQAQAAeEYgAwAA8IxABgAA4BmBDAAAwLMCFcgef/xxS0pKsn79+oWHHTx40Pr06WOVK1e2smXLWufOnW3nzp1R79u2bZt17NjRTjrpJKtataoNGDDAjh49GjXO+++/b+edd56VLFnS6tata1OmTMmz5QIAAImtwASylStX2vPPP2/nnHNO1PD77rvP5syZYzNmzLAPPvjAvv/+e7v22mvDrx87dsyFscOHD9vSpUtt6tSpLmwNHTo0PM7WrVvdOK1bt7Y1a9a4wHfrrbfau+++m6fLCAAAElOBCGT79++3bt262QsvvGAVK1YMD9+7d6/97W9/s6eeesouv/xyS0lJsZdeeskFr+XLl7tx5s+fbxs3brRXX33VmjZtaldeeaU98sgj9uyzz7qQJhMnTrQ6derY6NGjrWHDhta3b1+77rrr7Omnn/a2zAAAIHEUiECmKkmVYLVt2zZq+KpVq+zIkSNRwxs0aGCnn366LVu2zD3X38aNG1u1atXC47Rv39727dtnGzZsCI8TO22NE0wjnkOHDrlpRD4AAACyopjlc3//+99t9erVrsoy1o4dO6xEiRJWoUKFqOEKX3otGCcyjAWvB6+daByFrN9++81Kly6d6rNHjBhhw4YNy4ElBAAAiS5fl5Bt377d7r33Xps2bZqVKlXK8pPBgwe7KtPgoXkFAAAodIFMVZK7du1ydz8WK1bMPdRwf9y4ce7/KsVSO7A9e/ZEvU93WSYnJ7v/62/sXZfB8/TGKVeuXNzSMdHdmHo98gEAAFDoAlmbNm1s3bp17s7H4NGsWTPXwD/4f/HixW3hwoXh92zevNl1c9GyZUv3XH81DQW7wIIFC1yAatSoUXicyGkE4wTTAAAASNg2ZCeffLKdffbZUcPKlCnj+hwLhvfq1cv69+9vlSpVciHr7rvvdkHqggsucK+3a9fOBa+bb77ZRo4c6dqLDRkyxN0ooFIuueOOO+yZZ56xgQMHWs+ePW3RokX2xhtv2FtvveVhqQEAQKLJ14EsI9Q1RZEiRVyHsLrzUXdHPvfcc+HXixYtanPnzrU777zTBTUFuh49etjDDz8cHkddXih8qU+zsWPH2mmnnWYvvviimxYAAEBuSwqFQqFc/5QEoDsyy5cv7xr452Z7spQBL+fatIGCatWo7lYYsH8Deb9/59X5u0C3IQMAAEgEBDIAAADPCGQAAACeEcgAAAA8I5ABAAB4RiADAADwjEAGAADgGYEMAADAMwIZAACAZwQyAAAAzwhkAAAAnhHIAAAAPCOQAQAAeEYgAwAA8IxABgAA4BmBDAAAwDMCGQAAgGcEMgAAAM8IZAAAAJ4RyAAAADwjkAEAAHhGIAMAAPCMQAYAAOAZgQwAAMAzAhkAAIBnBDIAAADPCGQAAACeEcgAAAA8I5ABAAB4RiADAADwjEAGAADgGYEMAADAMwIZAACAZwQyAAAAzwhkAAAAnhHIAAAAPCOQAQAAeEYgAwAA8IxABgAA4BmBDAAAwDMCGQAAgGcEMgAAAM8IZAAAAJ4RyAAAADwjkAEAAHhGIAMAAPCMQAYAAOAZgQwAAMAzAhkAAIBnBDIAAADPCGQAAACeEcgAAAA8I5ABAAB4RiADAADwjEAGAADgGYEMAADAMwIZAACAZwQyAAAAzwhkAAAAnuXrQDZixAhr3ry5nXzyyVa1alXr1KmTbd68OWqcgwcPWp8+faxy5cpWtmxZ69y5s+3cuTNqnG3btlnHjh3tpJNOctMZMGCAHT16NGqc999/38477zwrWbKk1a1b16ZMmZInywgAAJCvA9kHH3zgwtby5cttwYIFduTIEWvXrp0dOHAgPM59991nc+bMsRkzZrjxv//+e7v22mvDrx87dsyFscOHD9vSpUtt6tSpLmwNHTo0PM7WrVvdOK1bt7Y1a9ZYv3797NZbb7V33303z5cZAAAknqRQKBSyAuKHH35wJVwKXq1atbK9e/faKaecYq+99ppdd911bpxNmzZZw4YNbdmyZXbBBRfYO++8Y7///e9dUKtWrZobZ+LEiTZo0CA3vRIlSrj/v/XWW7Z+/frwZ3Xp0sX27Nlj8+bNy9C87du3z8qXL+/mqVy5crn0DZilDHg516YNFFSrRnW3woD9G8j7/Tuvzt8FuoQslr4sqVSpkvu7atUqV2rWtm3b8DgNGjSw008/3QUy0d/GjRuHw5i0b9/erYANGzaEx4mcRjBOMI14Dh065KYR+QAAACjUgez48eOuKvGiiy6ys88+2w3bsWOHK+GqUKFC1LgKX3otGCcyjAWvB6+daByFrN9++y3N9m1K1MGjZs2aObi0AAAgkRSYQKa2ZKpS/Pvf/275weDBg12JXfDYvn2771kCAAAFVDErAPr27Wtz5861xYsX22mnnRYenpyc7Brrq61XZCmZ7rLUa8E4K1asiJpecBdm5Dixd2bqueqSS5cuHXeedDemHgAAAIW6hEz3GyiMzZw50xYtWmR16tSJej0lJcWKFy9uCxcuDA9Ttxjq5qJly5buuf6uW7fOdu3aFR5Hd2wqbDVq1Cg8TuQ0gnGCaQAAACRsCZmqKXUH5Ztvvun6IgvafKnNlkqu9LdXr17Wv39/19BfIevuu+92QUp3WIq6yVDwuvnmm23kyJFuGkOGDHHTDkq47rjjDnvmmWds4MCB1rNnTxf+3njjDXfnJQAAQEKXkE2YMMG1z7rsssusevXq4cf06dPD4zz99NOuWwt1CKuuMFT9+K9//Sv8etGiRV11p/4qqN10003WvXt3e/jhh8PjqORN4UulYk2aNLHRo0fbiy++6O60BAAASOgSsox0kVaqVCl79tln3SMttWrVsrfffvuE01Ho+/TTT7M0nwAAAIW2hAwAACAREMgAAAA8I5ABAAB4RiADAADwjEAGAADgGYEMAADAMwIZAACAZwQyAAAAzwhkAAAAnhHIAAAAPCOQAQAAeEYgAwAA8IxABgAA4BmBDAAAwDMCGQAAgGcEMgAAAM8IZAAAAJ4RyAAAADwjkAEAAHhGIAMAAPCMQAYAAOAZgQwAAMAzAhkAAIBnBDIAAADPCGQAAACeEcgAAAA8I5ABAAB4RiADAADwjEAGAADgGYEMAADAMwIZAACAZwQyAAAAzwhkAAAAnhHIAAAAPCOQAQAAeEYgAwAA8IxABgAA4BmBDAAAwDMCGQAAgGcEMgAAAM8IZAAAAJ4RyAAAADwjkAEAAHhGIAMAAPCMQAYAAOAZgQwAAMAzAhkAAIBnBDIAAADPCGQAAACeEcgAAAA8I5ABAAB4RiADAADwjEAGAADgGYEMAADAMwIZAACAZwQyAAAAzwhkAAAAnhHIAAAAPCOQAQAAeEYgi/Hss89a7dq1rVSpUtaiRQtbsWKF71kCAACFHIEswvTp061///724IMP2urVq61JkybWvn1727Vrl+9ZAwAAhRiBLMJTTz1lvXv3tltuucUaNWpkEydOtJNOOskmT57se9YAAEAhRiD7r8OHD9uqVausbdu24WFFihRxz5ctW+Z13gAAQOFWzPcM5Bc//vijHTt2zKpVqxY1XM83bdqUavxDhw65R2Dv3r3u7759+3J1Po8d+i1Xpw8URLm93+UV9m8g7/fvYPqhUMh8IpBl0YgRI2zYsGGphtesWdPL/ACJrPz4O3zPAoACvn//8ssvVr58efOFQPZfVapUsaJFi9rOnTujhut5cnJyqvEHDx7sbgAIHD9+3H7++WerXLmyJSUl5ck8wx9dUSl8b9++3cqVK+d7dgDkIPbvxBIKhVwYq1Gjhtf5IJD9V4kSJSwlJcUWLlxonTp1CocsPe/bt2+q8UuWLOkekSpUqJBn84v8QQdrDthA4cT+nTjKeywZCxDIIqjEq0ePHtasWTM7//zzbcyYMXbgwAF31yUAAEBuIZBF+OMf/2g//PCDDR061Hbs2GFNmza1efPmpWroDwAAkJMIZDFUPRmvihKIpOpqdSAcW20NoOBj/4YPSSHf93kCAAAkODqGBQAA8IxABgAA4BmBDAAAwDMCGQAAgGcEMiALnn32Watdu7aVKlXKWrRoYStWrPA9SwCyafHixXb11Ve7Htv1iyuzZs3yPUtIIAQyIJOmT5/uOhHWbfGrV6+2Jk2aWPv27W3Xrl2+Zw1ANqgjcO3PuuAC8hrdXgCZpBKx5s2b2zPPPBP+iS397t3dd99t999/v+/ZA5ADVEI2c+bM8E/pAbmNEjIgEw4fPmyrVq2ytm3bhocVKVLEPV+2bJnXeQMAFFwEMiATfvzxRzt27Fiqn9PSc/3cFgAAWUEgAwAA8IxABmRClSpVrGjRorZz586o4XqenJzsbb4AAAUbgQzIhBIlSlhKSootXLgwPEyN+vW8ZcuWXucNAFBwFfM9A0BBoy4vevToYc2aNbPzzz/fxowZ426Xv+WWW3zPGoBs2L9/v3355Zfh51u3brU1a9ZYpUqV7PTTT/c6byj86PYCyAJ1eTFq1CjXkL9p06Y2btw41x0GgILr/ffft9atW6carguwKVOmeJknJA4CGQAAgGe0IQMAAPCMQAYAAOAZgQwAAMAzAhkAAIBnBDIAAADPCGQAAACeEcgAAAA8I5ABSBiXXXaZ9evXL8OdhCYlJdmePXuy9Zm1a9d2v+YAACdCIAMAAPCMQAYAAOAZgQxAQnrllVfcD8SffPLJlpycbF27drVdu3alGm/JkiV2zjnnWKlSpeyCCy6w9evXR73+0Ucf2SWXXGKlS5e2mjVr2j333ON+bB4AMoNABiAhHTlyxB555BH77LPPbNasWfbNN9/Yn/70p1TjDRgwwEaPHm0rV660U045xa6++mr3Xvnqq6+sQ4cO1rlzZ1u7dq1Nnz7dBbS+fft6WCIABVkx3zMAAD707Nkz/P8zzjjDxo0bZ82bN7f9+/db2bJlw689+OCDdsUVV7j/T5061U477TSbOXOm3XDDDTZixAjr1q1b+EaBevXquelceumlNmHCBFeqBgAZQQkZgIS0atUqV9p1+umnu2pLhSjZtm1b1HgtW7YM/79SpUpWv359+/zzz91zla5NmTLFBbjg0b59ezt+/Lht3bo1j5cIQEFGCRmAhKM2XgpOekybNs1VRSqI6fnhw4czPB2Vpt1+++2u3VgsBT0AyCgCGYCEs2nTJvvpp5/s8ccfdw3x5ZNPPok77vLly8Phavfu3fbFF19Yw4YN3fPzzjvPNm7caHXr1s3DuQdQGFFlCSDhKGCVKFHCxo8fb19//bXNnj3bNfCP5+GHH7aFCxe6uyvV6L9KlSrWqVMn99qgQYNs6dKlrhH/mjVrbMuWLfbmm2/SqB9AphHIACQcVVGq7deMGTOsUaNGrqTsySefjDuuXrv33nstJSXFduzYYXPmzHFhTtQdxgcffOBKzdT1xbnnnmtDhw61GjVq5PESASjokkKhUMj3TAAAACQySsgAAAA8I5ABAAB4RiADAADwjEAGAADgGYEMAADAMwIZAACAZwQyAAAAzwhkAAAAnhHIAAAAPCOQAQAAeEYgAwAA8IxABgAAYH79P2fwodVpoy9nAAAAAElFTkSuQmCC",
      "text/plain": [
       "<Figure size 640x480 with 1 Axes>"
      ]
     },
     "metadata": {},
     "output_type": "display_data"
    },
    {
     "name": "stdout",
     "output_type": "stream",
     "text": [
      "label\n",
      "1    10000\n",
      "0    10000\n",
      "Name: count, dtype: int64\n"
     ]
    }
   ],
   "source": [
    "import matplotlib.pyplot as plt\n",
    "import seaborn as sns\n",
    "\n",
    "# Plot label distribution\n",
    "sns.countplot(x='label', data=df)\n",
    "plt.title('Distribution of Labels (0 = Not Mental Health, 1 = Mental Health)')\n",
    "plt.show()\n",
    "\n",
    "# Optional: show exact numbers\n",
    "print(df['label'].value_counts())\n"
   ]
  },
  {
   "cell_type": "code",
<<<<<<< HEAD
   "execution_count": 8,
=======
   "execution_count": 18,
>>>>>>> a87557f2f11f6bb3eb04890ee68200a6e14c1a59
   "id": "c25ba6e2",
   "metadata": {},
   "outputs": [
    {
     "name": "stdout",
     "output_type": "stream",
     "text": [
      "Duplicate rows found:\n",
      "                  post_id                    post_created  \\\n",
      "141    631531032924303360  Wed Aug 12 18:21:46 +0000 2015   \n",
      "142    631531032924303360  Wed Aug 12 18:21:46 +0000 2015   \n",
      "392    659337651514945537  Wed Oct 28 11:55:20 +0000 2015   \n",
      "393    659337651514945537  Wed Oct 28 11:55:20 +0000 2015   \n",
      "537    655952866184679424  Mon Oct 19 03:45:24 +0000 2015   \n",
      "...                   ...                             ...   \n",
      "19599  810367005513498626  Sun Dec 18 06:12:04 +0000 2016   \n",
      "19787  819407379729158145  Thu Jan 12 04:55:17 +0000 2017   \n",
      "19788  819407379729158145  Thu Jan 12 04:55:17 +0000 2017   \n",
      "19936  819356367295311873  Thu Jan 12 01:32:35 +0000 2017   \n",
      "19937  819356367295311873  Thu Jan 12 01:32:35 +0000 2017   \n",
      "\n",
      "                                               post_text     user_id  \\\n",
      "141    RT @richardbranson: Read this wonderful blog a...  1013187241   \n",
      "142    RT @richardbranson: Read this wonderful blog a...  1013187241   \n",
      "392    College minor in substance abuse? #addiction h...  3346224328   \n",
      "393    College minor in substance abuse? #addiction h...  3346224328   \n",
      "537     What would your life be like with less #anxiety?  3346224328   \n",
      "...                                                  ...         ...   \n",
      "19599         Next Level Fitness https://t.co/cgEVdB5MIT  1458225506   \n",
      "19787  \"That must be wonderful! I don't understand it...  1169875706   \n",
      "19788  \"That must be wonderful! I don't understand it...  1169875706   \n",
      "19936  The lunatic, the lover, and the poet, Are of i...  1169875706   \n",
      "19937  The lunatic, the lover, and the poet, Are of i...  1169875706   \n",
      "\n",
      "       followers  friends  favourites  statuses  retweets  label  \n",
      "141           84      211         251       837       469      1  \n",
      "142           84      211         251       837       469      1  \n",
      "392          189      169         698      3694         0      1  \n",
      "393          189      169         698      3694         0      1  \n",
      "537          189      169         698      3694         1      1  \n",
      "...          ...      ...         ...       ...       ...    ...  \n",
      "19599       1197      701        1156     61856         0      0  \n",
      "19787        442      230           7   1063601         0      0  \n",
      "19788        442      230           7   1063601         0      0  \n",
      "19936        442      230           7   1063601         0      0  \n",
      "19937        442      230           7   1063601         0      0  \n",
      "\n",
      "[234 rows x 10 columns]\n"
     ]
    }
   ],
   "source": [
    "# Check for completely duplicate rows\n",
    "duplicate_rows = df[df.duplicated(keep=False)]\n",
    "if not duplicate_rows.empty:\n",
    "    print(\"Duplicate rows found:\")\n",
    "    print(duplicate_rows)\n",
    "else:\n",
    "    print(\"No duplicate rows found.\")"
   ]
  },
  {
   "cell_type": "markdown",
   "id": "79d4ec10",
   "metadata": {},
   "source": [
    "# Preprocessing"
   ]
  },
  {
   "cell_type": "code",
<<<<<<< HEAD
   "execution_count": 9,
   "id": "f2960312",
   "metadata": {},
   "outputs": [],
=======
   "execution_count": 19,
   "id": "f2960312",
   "metadata": {},
   "outputs": [
    {
     "ename": "ModuleNotFoundError",
     "evalue": "No module named 'contractions'",
     "output_type": "error",
     "traceback": [
      "\u001b[31m---------------------------------------------------------------------------\u001b[39m",
      "\u001b[31mModuleNotFoundError\u001b[39m                       Traceback (most recent call last)",
      "\u001b[36mCell\u001b[39m\u001b[36m \u001b[39m\u001b[32mIn[19]\u001b[39m\u001b[32m, line 5\u001b[39m\n\u001b[32m      3\u001b[39m \u001b[38;5;28;01mimport\u001b[39;00m\u001b[38;5;250m \u001b[39m\u001b[34;01mnltk\u001b[39;00m\n\u001b[32m      4\u001b[39m \u001b[38;5;28;01mimport\u001b[39;00m\u001b[38;5;250m \u001b[39m\u001b[34;01memoji\u001b[39;00m\n\u001b[32m----> \u001b[39m\u001b[32m5\u001b[39m \u001b[38;5;28;01mimport\u001b[39;00m\u001b[38;5;250m \u001b[39m\u001b[34;01mcontractions\u001b[39;00m\n\u001b[32m      7\u001b[39m \u001b[38;5;28;01mfrom\u001b[39;00m\u001b[38;5;250m \u001b[39m\u001b[34;01mnltk\u001b[39;00m\u001b[34;01m.\u001b[39;00m\u001b[34;01mcorpus\u001b[39;00m\u001b[38;5;250m \u001b[39m\u001b[38;5;28;01mimport\u001b[39;00m stopwords\n\u001b[32m      8\u001b[39m \u001b[38;5;28;01mfrom\u001b[39;00m\u001b[38;5;250m \u001b[39m\u001b[34;01mnltk\u001b[39;00m\u001b[34;01m.\u001b[39;00m\u001b[34;01mtokenize\u001b[39;00m\u001b[38;5;250m \u001b[39m\u001b[38;5;28;01mimport\u001b[39;00m word_tokenize\n",
      "\u001b[31mModuleNotFoundError\u001b[39m: No module named 'contractions'"
     ]
    }
   ],
>>>>>>> a87557f2f11f6bb3eb04890ee68200a6e14c1a59
   "source": [
    "import pandas as pd\n",
    "import re\n",
    "import nltk\n",
    "import emoji\n",
    "import contractions\n",
    "\n",
    "from nltk.corpus import stopwords\n",
    "from nltk.tokenize import word_tokenize\n",
    "from nltk.stem import WordNetLemmatizer\n"
   ]
  },
  {
   "cell_type": "code",
<<<<<<< HEAD
   "execution_count": 10,
=======
   "execution_count": 21,
>>>>>>> a87557f2f11f6bb3eb04890ee68200a6e14c1a59
   "id": "12fcb9f2",
   "metadata": {},
   "outputs": [
    {
     "data": {
      "text/html": [
       "<div>\n",
       "<style scoped>\n",
       "    .dataframe tbody tr th:only-of-type {\n",
       "        vertical-align: middle;\n",
       "    }\n",
       "\n",
       "    .dataframe tbody tr th {\n",
       "        vertical-align: top;\n",
       "    }\n",
       "\n",
       "    .dataframe thead th {\n",
       "        text-align: right;\n",
       "    }\n",
       "</style>\n",
       "<table border=\"1\" class=\"dataframe\">\n",
       "  <thead>\n",
       "    <tr style=\"text-align: right;\">\n",
       "      <th></th>\n",
       "      <th>Unnamed: 0</th>\n",
       "      <th>post_id</th>\n",
       "      <th>post_created</th>\n",
       "      <th>post_text</th>\n",
       "      <th>user_id</th>\n",
       "      <th>followers</th>\n",
       "      <th>friends</th>\n",
       "      <th>favourites</th>\n",
       "      <th>statuses</th>\n",
       "      <th>retweets</th>\n",
       "      <th>label</th>\n",
       "    </tr>\n",
       "  </thead>\n",
       "  <tbody>\n",
       "    <tr>\n",
       "      <th>0</th>\n",
       "      <td>0</td>\n",
       "      <td>637894677824413696</td>\n",
       "      <td>Sun Aug 30 07:48:37 +0000 2015</td>\n",
       "      <td>It's just over 2 years since I was diagnosed w...</td>\n",
       "      <td>1013187241</td>\n",
       "      <td>84</td>\n",
       "      <td>211</td>\n",
       "      <td>251</td>\n",
       "      <td>837</td>\n",
       "      <td>0</td>\n",
       "      <td>1</td>\n",
       "    </tr>\n",
       "    <tr>\n",
       "      <th>1</th>\n",
       "      <td>1</td>\n",
       "      <td>637890384576778240</td>\n",
       "      <td>Sun Aug 30 07:31:33 +0000 2015</td>\n",
       "      <td>It's Sunday, I need a break, so I'm planning t...</td>\n",
       "      <td>1013187241</td>\n",
       "      <td>84</td>\n",
       "      <td>211</td>\n",
       "      <td>251</td>\n",
       "      <td>837</td>\n",
       "      <td>1</td>\n",
       "      <td>1</td>\n",
       "    </tr>\n",
       "    <tr>\n",
       "      <th>2</th>\n",
       "      <td>2</td>\n",
       "      <td>637749345908051968</td>\n",
       "      <td>Sat Aug 29 22:11:07 +0000 2015</td>\n",
       "      <td>Awake but tired. I need to sleep but my brain ...</td>\n",
       "      <td>1013187241</td>\n",
       "      <td>84</td>\n",
       "      <td>211</td>\n",
       "      <td>251</td>\n",
       "      <td>837</td>\n",
       "      <td>0</td>\n",
       "      <td>1</td>\n",
       "    </tr>\n",
       "    <tr>\n",
       "      <th>3</th>\n",
       "      <td>3</td>\n",
       "      <td>637696421077123073</td>\n",
       "      <td>Sat Aug 29 18:40:49 +0000 2015</td>\n",
       "      <td>RT @SewHQ: #Retro bears make perfect gifts and...</td>\n",
       "      <td>1013187241</td>\n",
       "      <td>84</td>\n",
       "      <td>211</td>\n",
       "      <td>251</td>\n",
       "      <td>837</td>\n",
       "      <td>2</td>\n",
       "      <td>1</td>\n",
       "    </tr>\n",
       "    <tr>\n",
       "      <th>4</th>\n",
       "      <td>4</td>\n",
       "      <td>637696327485366272</td>\n",
       "      <td>Sat Aug 29 18:40:26 +0000 2015</td>\n",
       "      <td>It’s hard to say whether packing lists are mak...</td>\n",
       "      <td>1013187241</td>\n",
       "      <td>84</td>\n",
       "      <td>211</td>\n",
       "      <td>251</td>\n",
       "      <td>837</td>\n",
       "      <td>1</td>\n",
       "      <td>1</td>\n",
       "    </tr>\n",
       "  </tbody>\n",
       "</table>\n",
       "</div>"
      ],
      "text/plain": [
       "   Unnamed: 0             post_id                    post_created  \\\n",
       "0           0  637894677824413696  Sun Aug 30 07:48:37 +0000 2015   \n",
       "1           1  637890384576778240  Sun Aug 30 07:31:33 +0000 2015   \n",
       "2           2  637749345908051968  Sat Aug 29 22:11:07 +0000 2015   \n",
       "3           3  637696421077123073  Sat Aug 29 18:40:49 +0000 2015   \n",
       "4           4  637696327485366272  Sat Aug 29 18:40:26 +0000 2015   \n",
       "\n",
       "                                           post_text     user_id  followers  \\\n",
       "0  It's just over 2 years since I was diagnosed w...  1013187241         84   \n",
       "1  It's Sunday, I need a break, so I'm planning t...  1013187241         84   \n",
       "2  Awake but tired. I need to sleep but my brain ...  1013187241         84   \n",
       "3  RT @SewHQ: #Retro bears make perfect gifts and...  1013187241         84   \n",
       "4  It’s hard to say whether packing lists are mak...  1013187241         84   \n",
       "\n",
       "   friends  favourites  statuses  retweets  label  \n",
       "0      211         251       837         0      1  \n",
       "1      211         251       837         1      1  \n",
       "2      211         251       837         0      1  \n",
       "3      211         251       837         2      1  \n",
       "4      211         251       837         1      1  "
      ]
     },
<<<<<<< HEAD
     "execution_count": 10,
=======
     "execution_count": 21,
>>>>>>> a87557f2f11f6bb3eb04890ee68200a6e14c1a59
     "metadata": {},
     "output_type": "execute_result"
    }
   ],
   "source": [
    "# Load the data\n",
    "df = pd.read_csv(r'Mental-Health-Twitter.csv')\n",
    "df.head()"
   ]
  },
  {
   "cell_type": "code",
<<<<<<< HEAD
   "execution_count": 11,
=======
   "execution_count": 20,
>>>>>>> a87557f2f11f6bb3eb04890ee68200a6e14c1a59
   "id": "ff64f13f",
   "metadata": {},
   "outputs": [],
   "source": [
    "df_cleaned = df.copy()"
   ]
  },
  {
   "cell_type": "code",
<<<<<<< HEAD
   "execution_count": 12,
=======
   "execution_count": 22,
>>>>>>> a87557f2f11f6bb3eb04890ee68200a6e14c1a59
   "id": "d743e47f",
   "metadata": {},
   "outputs": [
    {
     "ename": "KeyError",
     "evalue": "\"['Unnamed: 0'] not found in axis\"",
     "output_type": "error",
     "traceback": [
      "\u001b[31m---------------------------------------------------------------------------\u001b[39m",
      "\u001b[31mKeyError\u001b[39m                                  Traceback (most recent call last)",
      "\u001b[36mCell\u001b[39m\u001b[36m \u001b[39m\u001b[32mIn[22]\u001b[39m\u001b[32m, line 1\u001b[39m\n\u001b[32m----> \u001b[39m\u001b[32m1\u001b[39m df_cleaned = \u001b[43mdf_cleaned\u001b[49m\u001b[43m.\u001b[49m\u001b[43mdrop\u001b[49m\u001b[43m(\u001b[49m\u001b[43mcolumns\u001b[49m\u001b[43m=\u001b[49m\u001b[43m[\u001b[49m\u001b[33;43m'\u001b[39;49m\u001b[33;43mUnnamed: 0\u001b[39;49m\u001b[33;43m'\u001b[39;49m\u001b[43m]\u001b[49m\u001b[43m)\u001b[49m\n\u001b[32m      2\u001b[39m df_cleaned = df_cleaned.drop_duplicates(keep=\u001b[38;5;28;01mFalse\u001b[39;00m)\n",
      "\u001b[36mFile \u001b[39m\u001b[32md:\\year 3 t 2\\Data Mining\\Final project\\Social-Media-Emotion-Analysis-Framework\\studysession\\Lib\\site-packages\\pandas\\core\\frame.py:5581\u001b[39m, in \u001b[36mDataFrame.drop\u001b[39m\u001b[34m(self, labels, axis, index, columns, level, inplace, errors)\u001b[39m\n\u001b[32m   5433\u001b[39m \u001b[38;5;28;01mdef\u001b[39;00m\u001b[38;5;250m \u001b[39m\u001b[34mdrop\u001b[39m(\n\u001b[32m   5434\u001b[39m     \u001b[38;5;28mself\u001b[39m,\n\u001b[32m   5435\u001b[39m     labels: IndexLabel | \u001b[38;5;28;01mNone\u001b[39;00m = \u001b[38;5;28;01mNone\u001b[39;00m,\n\u001b[32m   (...)\u001b[39m\u001b[32m   5442\u001b[39m     errors: IgnoreRaise = \u001b[33m\"\u001b[39m\u001b[33mraise\u001b[39m\u001b[33m\"\u001b[39m,\n\u001b[32m   5443\u001b[39m ) -> DataFrame | \u001b[38;5;28;01mNone\u001b[39;00m:\n\u001b[32m   5444\u001b[39m \u001b[38;5;250m    \u001b[39m\u001b[33;03m\"\"\"\u001b[39;00m\n\u001b[32m   5445\u001b[39m \u001b[33;03m    Drop specified labels from rows or columns.\u001b[39;00m\n\u001b[32m   5446\u001b[39m \n\u001b[32m   (...)\u001b[39m\u001b[32m   5579\u001b[39m \u001b[33;03m            weight  1.0     0.8\u001b[39;00m\n\u001b[32m   5580\u001b[39m \u001b[33;03m    \"\"\"\u001b[39;00m\n\u001b[32m-> \u001b[39m\u001b[32m5581\u001b[39m     \u001b[38;5;28;01mreturn\u001b[39;00m \u001b[38;5;28;43msuper\u001b[39;49m\u001b[43m(\u001b[49m\u001b[43m)\u001b[49m\u001b[43m.\u001b[49m\u001b[43mdrop\u001b[49m\u001b[43m(\u001b[49m\n\u001b[32m   5582\u001b[39m \u001b[43m        \u001b[49m\u001b[43mlabels\u001b[49m\u001b[43m=\u001b[49m\u001b[43mlabels\u001b[49m\u001b[43m,\u001b[49m\n\u001b[32m   5583\u001b[39m \u001b[43m        \u001b[49m\u001b[43maxis\u001b[49m\u001b[43m=\u001b[49m\u001b[43maxis\u001b[49m\u001b[43m,\u001b[49m\n\u001b[32m   5584\u001b[39m \u001b[43m        \u001b[49m\u001b[43mindex\u001b[49m\u001b[43m=\u001b[49m\u001b[43mindex\u001b[49m\u001b[43m,\u001b[49m\n\u001b[32m   5585\u001b[39m \u001b[43m        \u001b[49m\u001b[43mcolumns\u001b[49m\u001b[43m=\u001b[49m\u001b[43mcolumns\u001b[49m\u001b[43m,\u001b[49m\n\u001b[32m   5586\u001b[39m \u001b[43m        \u001b[49m\u001b[43mlevel\u001b[49m\u001b[43m=\u001b[49m\u001b[43mlevel\u001b[49m\u001b[43m,\u001b[49m\n\u001b[32m   5587\u001b[39m \u001b[43m        \u001b[49m\u001b[43minplace\u001b[49m\u001b[43m=\u001b[49m\u001b[43minplace\u001b[49m\u001b[43m,\u001b[49m\n\u001b[32m   5588\u001b[39m \u001b[43m        \u001b[49m\u001b[43merrors\u001b[49m\u001b[43m=\u001b[49m\u001b[43merrors\u001b[49m\u001b[43m,\u001b[49m\n\u001b[32m   5589\u001b[39m \u001b[43m    \u001b[49m\u001b[43m)\u001b[49m\n",
      "\u001b[36mFile \u001b[39m\u001b[32md:\\year 3 t 2\\Data Mining\\Final project\\Social-Media-Emotion-Analysis-Framework\\studysession\\Lib\\site-packages\\pandas\\core\\generic.py:4788\u001b[39m, in \u001b[36mNDFrame.drop\u001b[39m\u001b[34m(self, labels, axis, index, columns, level, inplace, errors)\u001b[39m\n\u001b[32m   4786\u001b[39m \u001b[38;5;28;01mfor\u001b[39;00m axis, labels \u001b[38;5;129;01min\u001b[39;00m axes.items():\n\u001b[32m   4787\u001b[39m     \u001b[38;5;28;01mif\u001b[39;00m labels \u001b[38;5;129;01mis\u001b[39;00m \u001b[38;5;129;01mnot\u001b[39;00m \u001b[38;5;28;01mNone\u001b[39;00m:\n\u001b[32m-> \u001b[39m\u001b[32m4788\u001b[39m         obj = \u001b[43mobj\u001b[49m\u001b[43m.\u001b[49m\u001b[43m_drop_axis\u001b[49m\u001b[43m(\u001b[49m\u001b[43mlabels\u001b[49m\u001b[43m,\u001b[49m\u001b[43m \u001b[49m\u001b[43maxis\u001b[49m\u001b[43m,\u001b[49m\u001b[43m \u001b[49m\u001b[43mlevel\u001b[49m\u001b[43m=\u001b[49m\u001b[43mlevel\u001b[49m\u001b[43m,\u001b[49m\u001b[43m \u001b[49m\u001b[43merrors\u001b[49m\u001b[43m=\u001b[49m\u001b[43merrors\u001b[49m\u001b[43m)\u001b[49m\n\u001b[32m   4790\u001b[39m \u001b[38;5;28;01mif\u001b[39;00m inplace:\n\u001b[32m   4791\u001b[39m     \u001b[38;5;28mself\u001b[39m._update_inplace(obj)\n",
      "\u001b[36mFile \u001b[39m\u001b[32md:\\year 3 t 2\\Data Mining\\Final project\\Social-Media-Emotion-Analysis-Framework\\studysession\\Lib\\site-packages\\pandas\\core\\generic.py:4830\u001b[39m, in \u001b[36mNDFrame._drop_axis\u001b[39m\u001b[34m(self, labels, axis, level, errors, only_slice)\u001b[39m\n\u001b[32m   4828\u001b[39m         new_axis = axis.drop(labels, level=level, errors=errors)\n\u001b[32m   4829\u001b[39m     \u001b[38;5;28;01melse\u001b[39;00m:\n\u001b[32m-> \u001b[39m\u001b[32m4830\u001b[39m         new_axis = \u001b[43maxis\u001b[49m\u001b[43m.\u001b[49m\u001b[43mdrop\u001b[49m\u001b[43m(\u001b[49m\u001b[43mlabels\u001b[49m\u001b[43m,\u001b[49m\u001b[43m \u001b[49m\u001b[43merrors\u001b[49m\u001b[43m=\u001b[49m\u001b[43merrors\u001b[49m\u001b[43m)\u001b[49m\n\u001b[32m   4831\u001b[39m     indexer = axis.get_indexer(new_axis)\n\u001b[32m   4833\u001b[39m \u001b[38;5;66;03m# Case for non-unique axis\u001b[39;00m\n\u001b[32m   4834\u001b[39m \u001b[38;5;28;01melse\u001b[39;00m:\n",
      "\u001b[36mFile \u001b[39m\u001b[32md:\\year 3 t 2\\Data Mining\\Final project\\Social-Media-Emotion-Analysis-Framework\\studysession\\Lib\\site-packages\\pandas\\core\\indexes\\base.py:7070\u001b[39m, in \u001b[36mIndex.drop\u001b[39m\u001b[34m(self, labels, errors)\u001b[39m\n\u001b[32m   7068\u001b[39m \u001b[38;5;28;01mif\u001b[39;00m mask.any():\n\u001b[32m   7069\u001b[39m     \u001b[38;5;28;01mif\u001b[39;00m errors != \u001b[33m\"\u001b[39m\u001b[33mignore\u001b[39m\u001b[33m\"\u001b[39m:\n\u001b[32m-> \u001b[39m\u001b[32m7070\u001b[39m         \u001b[38;5;28;01mraise\u001b[39;00m \u001b[38;5;167;01mKeyError\u001b[39;00m(\u001b[33mf\u001b[39m\u001b[33m\"\u001b[39m\u001b[38;5;132;01m{\u001b[39;00mlabels[mask].tolist()\u001b[38;5;132;01m}\u001b[39;00m\u001b[33m not found in axis\u001b[39m\u001b[33m\"\u001b[39m)\n\u001b[32m   7071\u001b[39m     indexer = indexer[~mask]\n\u001b[32m   7072\u001b[39m \u001b[38;5;28;01mreturn\u001b[39;00m \u001b[38;5;28mself\u001b[39m.delete(indexer)\n",
      "\u001b[31mKeyError\u001b[39m: \"['Unnamed: 0'] not found in axis\""
     ]
    }
   ],
   "source": [
    "df_cleaned = df_cleaned.drop(columns=['Unnamed: 0'])\n",
    "df_cleaned = df_cleaned.drop_duplicates(keep=False)"
   ]
  },
  {
   "cell_type": "code",
<<<<<<< HEAD
   "execution_count": 13,
=======
   "execution_count": 23,
>>>>>>> a87557f2f11f6bb3eb04890ee68200a6e14c1a59
   "id": "79ca9a80",
   "metadata": {},
   "outputs": [
    {
     "data": {
      "text/html": [
       "<div>\n",
       "<style scoped>\n",
       "    .dataframe tbody tr th:only-of-type {\n",
       "        vertical-align: middle;\n",
       "    }\n",
       "\n",
       "    .dataframe tbody tr th {\n",
       "        vertical-align: top;\n",
       "    }\n",
       "\n",
       "    .dataframe thead th {\n",
       "        text-align: right;\n",
       "    }\n",
       "</style>\n",
       "<table border=\"1\" class=\"dataframe\">\n",
       "  <thead>\n",
       "    <tr style=\"text-align: right;\">\n",
       "      <th></th>\n",
       "      <th>post_text</th>\n",
       "      <th>URLs</th>\n",
       "    </tr>\n",
       "  </thead>\n",
       "  <tbody>\n",
       "    <tr>\n",
       "      <th>0</th>\n",
       "      <td>It's just over 2 years since I was diagnosed w...</td>\n",
       "      <td>False</td>\n",
       "    </tr>\n",
       "    <tr>\n",
       "      <th>1</th>\n",
       "      <td>It's Sunday, I need a break, so I'm planning t...</td>\n",
       "      <td>False</td>\n",
       "    </tr>\n",
       "    <tr>\n",
       "      <th>2</th>\n",
       "      <td>Awake but tired. I need to sleep but my brain ...</td>\n",
       "      <td>False</td>\n",
       "    </tr>\n",
       "    <tr>\n",
       "      <th>3</th>\n",
       "      <td>RT @SewHQ: #Retro bears make perfect gifts and...</td>\n",
       "      <td>True</td>\n",
       "    </tr>\n",
       "    <tr>\n",
       "      <th>4</th>\n",
       "      <td>It’s hard to say whether packing lists are mak...</td>\n",
       "      <td>False</td>\n",
       "    </tr>\n",
       "  </tbody>\n",
       "</table>\n",
       "</div>"
      ],
      "text/plain": [
       "                                           post_text   URLs\n",
       "0  It's just over 2 years since I was diagnosed w...  False\n",
       "1  It's Sunday, I need a break, so I'm planning t...  False\n",
       "2  Awake but tired. I need to sleep but my brain ...  False\n",
       "3  RT @SewHQ: #Retro bears make perfect gifts and...   True\n",
       "4  It’s hard to say whether packing lists are mak...  False"
      ]
     },
<<<<<<< HEAD
     "execution_count": 13,
=======
     "execution_count": 23,
>>>>>>> a87557f2f11f6bb3eb04890ee68200a6e14c1a59
     "metadata": {},
     "output_type": "execute_result"
    }
   ],
   "source": [
    "# Define a function to remove URLs and mark if there was a URL\n",
    "def remove_urls(text):\n",
    "    url_pattern = r'http\\S+|www\\S+'\n",
    "    has_url = bool(re.search(url_pattern, text))  # Check if there is a URL\n",
    "    cleaned_text = re.sub(url_pattern, '', text)  # Remove URLs\n",
    "    return cleaned_text, has_url\n",
    "\n",
    "# Apply the function to each row\n",
    "df_cleaned[['post_text', 'URLs']] = df_cleaned['post_text'].apply(lambda x: pd.Series(remove_urls(x)))\n",
    "\n",
    "# Done!\n",
    "df_cleaned[['post_text', 'URLs']].head()"
   ]
  },
  {
   "cell_type": "code",
<<<<<<< HEAD
   "execution_count": 14,
=======
   "execution_count": 24,
>>>>>>> a87557f2f11f6bb3eb04890ee68200a6e14c1a59
   "id": "6c94e566",
   "metadata": {},
   "outputs": [
    {
     "data": {
      "text/html": [
       "<div>\n",
       "<style scoped>\n",
       "    .dataframe tbody tr th:only-of-type {\n",
       "        vertical-align: middle;\n",
       "    }\n",
       "\n",
       "    .dataframe tbody tr th {\n",
       "        vertical-align: top;\n",
       "    }\n",
       "\n",
       "    .dataframe thead th {\n",
       "        text-align: right;\n",
       "    }\n",
       "</style>\n",
       "<table border=\"1\" class=\"dataframe\">\n",
       "  <thead>\n",
       "    <tr style=\"text-align: right;\">\n",
       "      <th></th>\n",
       "      <th>post_text</th>\n",
       "      <th>Mentions</th>\n",
       "    </tr>\n",
       "  </thead>\n",
       "  <tbody>\n",
       "    <tr>\n",
       "      <th>0</th>\n",
       "      <td>It's just over 2 years since I was diagnosed w...</td>\n",
       "      <td>False</td>\n",
       "    </tr>\n",
       "    <tr>\n",
       "      <th>1</th>\n",
       "      <td>It's Sunday, I need a break, so I'm planning t...</td>\n",
       "      <td>False</td>\n",
       "    </tr>\n",
       "    <tr>\n",
       "      <th>2</th>\n",
       "      <td>Awake but tired. I need to sleep but my brain ...</td>\n",
       "      <td>False</td>\n",
       "    </tr>\n",
       "    <tr>\n",
       "      <th>3</th>\n",
       "      <td>RT : #Retro bears make perfect gifts and are g...</td>\n",
       "      <td>True</td>\n",
       "    </tr>\n",
       "    <tr>\n",
       "      <th>4</th>\n",
       "      <td>It’s hard to say whether packing lists are mak...</td>\n",
       "      <td>False</td>\n",
       "    </tr>\n",
       "  </tbody>\n",
       "</table>\n",
       "</div>"
      ],
      "text/plain": [
       "                                           post_text  Mentions\n",
       "0  It's just over 2 years since I was diagnosed w...     False\n",
       "1  It's Sunday, I need a break, so I'm planning t...     False\n",
       "2  Awake but tired. I need to sleep but my brain ...     False\n",
       "3  RT : #Retro bears make perfect gifts and are g...      True\n",
       "4  It’s hard to say whether packing lists are mak...     False"
      ]
     },
<<<<<<< HEAD
     "execution_count": 14,
=======
     "execution_count": 24,
>>>>>>> a87557f2f11f6bb3eb04890ee68200a6e14c1a59
     "metadata": {},
     "output_type": "execute_result"
    }
   ],
   "source": [
    "# --- Step 2: Remove Mentions and track ---\n",
    "def remove_mentions(text):\n",
    "    mention_pattern = r'@\\w+'\n",
    "    has_mention = bool(re.search(mention_pattern, text))\n",
    "    cleaned_text = re.sub(mention_pattern, '', text)\n",
    "    return cleaned_text, has_mention\n",
    "\n",
    "df_cleaned[['post_text', 'Mentions']] = df_cleaned['post_text'].apply(lambda x: pd.Series(remove_mentions(x)))\n",
    "df_cleaned[['post_text', 'Mentions']].head()\n"
   ]
  },
  {
   "cell_type": "code",
<<<<<<< HEAD
   "execution_count": 15,
=======
   "execution_count": 25,
>>>>>>> a87557f2f11f6bb3eb04890ee68200a6e14c1a59
   "id": "ebacebee",
   "metadata": {},
   "outputs": [
    {
     "data": {
      "text/html": [
       "<div>\n",
       "<style scoped>\n",
       "    .dataframe tbody tr th:only-of-type {\n",
       "        vertical-align: middle;\n",
       "    }\n",
       "\n",
       "    .dataframe tbody tr th {\n",
       "        vertical-align: top;\n",
       "    }\n",
       "\n",
       "    .dataframe thead th {\n",
       "        text-align: right;\n",
       "    }\n",
       "</style>\n",
       "<table border=\"1\" class=\"dataframe\">\n",
       "  <thead>\n",
       "    <tr style=\"text-align: right;\">\n",
       "      <th></th>\n",
       "      <th>post_text</th>\n",
       "      <th>Hashtags</th>\n",
       "    </tr>\n",
       "  </thead>\n",
       "  <tbody>\n",
       "    <tr>\n",
       "      <th>0</th>\n",
       "      <td>It's just over 2 years since I was diagnosed w...</td>\n",
       "      <td>[#anxiety, #depression]</td>\n",
       "    </tr>\n",
       "    <tr>\n",
       "      <th>1</th>\n",
       "      <td>It's Sunday, I need a break, so I'm planning t...</td>\n",
       "      <td>[#A14]</td>\n",
       "    </tr>\n",
       "    <tr>\n",
       "      <th>2</th>\n",
       "      <td>Awake but tired. I need to sleep but my brain ...</td>\n",
       "      <td>[]</td>\n",
       "    </tr>\n",
       "    <tr>\n",
       "      <th>3</th>\n",
       "      <td>RT : #Retro bears make perfect gifts and are g...</td>\n",
       "      <td>[#Retro, #yay]</td>\n",
       "    </tr>\n",
       "    <tr>\n",
       "      <th>4</th>\n",
       "      <td>It’s hard to say whether packing lists are mak...</td>\n",
       "      <td>[#movinghouse, #anxiety]</td>\n",
       "    </tr>\n",
       "  </tbody>\n",
       "</table>\n",
       "</div>"
      ],
      "text/plain": [
       "                                           post_text                  Hashtags\n",
       "0  It's just over 2 years since I was diagnosed w...   [#anxiety, #depression]\n",
       "1  It's Sunday, I need a break, so I'm planning t...                    [#A14]\n",
       "2  Awake but tired. I need to sleep but my brain ...                        []\n",
       "3  RT : #Retro bears make perfect gifts and are g...            [#Retro, #yay]\n",
       "4  It’s hard to say whether packing lists are mak...  [#movinghouse, #anxiety]"
      ]
     },
<<<<<<< HEAD
     "execution_count": 15,
=======
     "execution_count": 25,
>>>>>>> a87557f2f11f6bb3eb04890ee68200a6e14c1a59
     "metadata": {},
     "output_type": "execute_result"
    }
   ],
   "source": [
    "# --- Step 3: Handle Hashtags (extract and optionally remove) ---\n",
    "def extract_hashtags(text):\n",
    "    hashtags = re.findall(r'#\\w+', text)  # Find hashtags\n",
    "    return hashtags\n",
    "\n",
    "# Extract hashtags into a new column\n",
    "df_cleaned['Hashtags'] = df_cleaned['post_text'].apply(lambda x: extract_hashtags(x))\n",
    "df_cleaned[['post_text', 'Hashtags']].head()"
   ]
  },
  {
   "cell_type": "code",
<<<<<<< HEAD
   "execution_count": 16,
=======
   "execution_count": 26,
>>>>>>> a87557f2f11f6bb3eb04890ee68200a6e14c1a59
   "id": "9b8c6366",
   "metadata": {},
   "outputs": [
    {
     "data": {
      "text/html": [
       "<div>\n",
       "<style scoped>\n",
       "    .dataframe tbody tr th:only-of-type {\n",
       "        vertical-align: middle;\n",
       "    }\n",
       "\n",
       "    .dataframe tbody tr th {\n",
       "        vertical-align: top;\n",
       "    }\n",
       "\n",
       "    .dataframe thead th {\n",
       "        text-align: right;\n",
       "    }\n",
       "</style>\n",
       "<table border=\"1\" class=\"dataframe\">\n",
       "  <thead>\n",
       "    <tr style=\"text-align: right;\">\n",
       "      <th></th>\n",
       "      <th>post_text</th>\n",
       "      <th>URLs</th>\n",
       "      <th>Mentions</th>\n",
       "      <th>Hashtags</th>\n",
       "    </tr>\n",
       "  </thead>\n",
       "  <tbody>\n",
       "    <tr>\n",
       "      <th>0</th>\n",
       "      <td>It's just over 2 years since I was diagnosed w...</td>\n",
       "      <td>False</td>\n",
       "      <td>False</td>\n",
       "      <td>[#anxiety, #depression]</td>\n",
       "    </tr>\n",
       "    <tr>\n",
       "      <th>1</th>\n",
       "      <td>It's Sunday, I need a break, so I'm planning t...</td>\n",
       "      <td>False</td>\n",
       "      <td>False</td>\n",
       "      <td>[#A14]</td>\n",
       "    </tr>\n",
       "    <tr>\n",
       "      <th>2</th>\n",
       "      <td>Awake but tired. I need to sleep but my brain ...</td>\n",
       "      <td>False</td>\n",
       "      <td>False</td>\n",
       "      <td>[]</td>\n",
       "    </tr>\n",
       "    <tr>\n",
       "      <th>3</th>\n",
       "      <td>RT :  bears make perfect gifts and are great f...</td>\n",
       "      <td>True</td>\n",
       "      <td>True</td>\n",
       "      <td>[#Retro, #yay]</td>\n",
       "    </tr>\n",
       "    <tr>\n",
       "      <th>4</th>\n",
       "      <td>It’s hard to say whether packing lists are mak...</td>\n",
       "      <td>False</td>\n",
       "      <td>False</td>\n",
       "      <td>[#movinghouse, #anxiety]</td>\n",
       "    </tr>\n",
       "  </tbody>\n",
       "</table>\n",
       "</div>"
      ],
      "text/plain": [
       "                                           post_text   URLs  Mentions  \\\n",
       "0  It's just over 2 years since I was diagnosed w...  False     False   \n",
       "1  It's Sunday, I need a break, so I'm planning t...  False     False   \n",
       "2  Awake but tired. I need to sleep but my brain ...  False     False   \n",
       "3  RT :  bears make perfect gifts and are great f...   True      True   \n",
       "4  It’s hard to say whether packing lists are mak...  False     False   \n",
       "\n",
       "                   Hashtags  \n",
       "0   [#anxiety, #depression]  \n",
       "1                    [#A14]  \n",
       "2                        []  \n",
       "3            [#Retro, #yay]  \n",
       "4  [#movinghouse, #anxiety]  "
      ]
     },
<<<<<<< HEAD
     "execution_count": 16,
=======
     "execution_count": 26,
>>>>>>> a87557f2f11f6bb3eb04890ee68200a6e14c1a59
     "metadata": {},
     "output_type": "execute_result"
    }
   ],
   "source": [
    "# (Optional) If you want to also REMOVE hashtags from the post_text:\n",
    "def remove_hashtags(text):\n",
    "    return re.sub(r'#\\w+', '', text)\n",
    "\n",
    "# Uncomment below line if you want to remove hashtags from the post_text\n",
    "df_cleaned['post_text'] = df_cleaned['post_text'].apply(lambda x: remove_hashtags(x))\n",
    "\n",
    "# View the result\n",
    "df_cleaned[['post_text', 'URLs', 'Mentions', 'Hashtags']].head()"
   ]
  },
  {
   "cell_type": "code",
<<<<<<< HEAD
   "execution_count": 17,
=======
   "execution_count": 27,
>>>>>>> a87557f2f11f6bb3eb04890ee68200a6e14c1a59
   "id": "c4cc5e95",
   "metadata": {},
   "outputs": [
    {
     "name": "stdout",
     "output_type": "stream",
     "text": [
      "Total slang words found: 883\n",
      "Number of tweets containing slang: 816\n",
      "\n",
      "Slang Word Count Table:\n",
      "   Slang Word  Count\n",
      "0       gonna    197\n",
      "1         lol    193\n",
      "2       wanna    136\n",
      "3         omg     98\n",
      "4         tbh     57\n",
      "5         smh     56\n",
      "6        lmao     52\n",
      "7         idk     46\n",
      "8         btw     11\n",
      "9         thx     11\n",
      "10        plz      7\n",
      "11        brb      7\n",
      "12        fyi      6\n",
      "13        bff      3\n",
      "14        cya      1\n",
      "15       yolo      1\n",
      "16       rofl      1\n"
     ]
    }
   ],
   "source": [
    "import re\n",
    "from collections import Counter\n",
    "import pandas as pd\n",
    "\n",
    "# Example slang list\n",
    "slang_words = [\n",
    "    'lol', 'omg', 'idk', 'lmao', 'brb', 'btw', 'imo', 'tbh', 'gonna', 'wanna',\n",
    "    'yolo', 'smh', 'fyi', 'gr8', 'b4', 'bff', 'cya', 'plz', 'rofl', 'thx'\n",
    "]\n",
    "\n",
    "# Function to clean text (you can expand this based on your needs)\n",
    "def clean_text(text):\n",
    "    # Remove non-alphanumeric characters, convert to lowercase\n",
    "    return re.sub(r'[^a-zA-Z\\s]', '', str(text).lower())\n",
    "\n",
    "# Add a cleaned version of the post text to the DataFrame\n",
    "df['cleaned'] = df['post_text'].apply(clean_text)\n",
    "\n",
    "# Function to find slang words\n",
    "def find_slang(text, slang_list):\n",
    "    found = []\n",
    "    words = re.findall(r'\\b\\w+\\b', str(text).lower())\n",
    "    for word in words:\n",
    "        if word in slang_list:\n",
    "            found.append(word)\n",
    "    return found\n",
    "\n",
    "# Find all slang words\n",
    "df['slang_found'] = df['cleaned'].apply(lambda x: find_slang(x, slang_words))\n",
    "\n",
    "# Flatten slang list\n",
    "all_slangs = [word for slang_list in df['slang_found'] for word in slang_list]\n",
    "\n",
    "# Count slang\n",
    "slang_counter = Counter(all_slangs)\n",
    "\n",
    "# Total slang words\n",
    "total_slang_words = sum(slang_counter.values())\n",
    "\n",
    "# Tweets containing slang\n",
    "tweets_with_slang = df[df['slang_found'].apply(lambda x: len(x) > 0)].shape[0]\n",
    "\n",
    "# Create DataFrame table\n",
    "slang_df = pd.DataFrame(slang_counter.items(), columns=['Slang Word', 'Count'])\n",
    "slang_df = slang_df.sort_values(by='Count', ascending=False).reset_index(drop=True)\n",
    "\n",
    "# Output results\n",
    "print(f\"Total slang words found: {total_slang_words}\")\n",
    "print(f\"Number of tweets containing slang: {tweets_with_slang}\")\n",
    "print(\"\\nSlang Word Count Table:\")\n",
    "print(slang_df)\n"
   ]
  },
  {
   "cell_type": "code",
<<<<<<< HEAD
   "execution_count": 18,
=======
   "execution_count": 28,
>>>>>>> a87557f2f11f6bb3eb04890ee68200a6e14c1a59
   "id": "df4d4d61",
   "metadata": {},
   "outputs": [
    {
     "name": "stdout",
     "output_type": "stream",
     "text": [
      "Total filtered words (after removing stopwords): 129430\n",
      "\n",
      "Top Common Words (After Removing Stopwords):\n",
      "         Word  Count\n",
<<<<<<< HEAD
      "0          rt   3799\n",
      "1        like    982\n",
      "2  depression    838\n",
      "3         one    707\n",
      "4         get    608\n",
      "5        know    589\n",
      "6        love    586\n",
      "7      people    573\n",
      "8         amp    551\n",
      "9        user    500\n"
=======
      "0          rt   3843\n",
      "1        like    992\n",
      "2  depression    846\n",
      "3         one    711\n",
      "4         get    610\n"
>>>>>>> a87557f2f11f6bb3eb04890ee68200a6e14c1a59
     ]
    }
   ],
   "source": [
    "import re\n",
    "from collections import Counter\n",
    "import pandas as pd\n",
    "\n",
    "# Define a custom list of stopwords (can be extended as needed)\n",
    "stopwords = [\n",
    "    'i', 'me', 'my', 'myself', 'we', 'our', 'ours', 'ourselves', 'you', 'your', 'yours',\n",
    "    'yourself', 'yourselves', 'he', 'him', 'his', 'himself', 'she', 'her', 'hers', 'herself',\n",
    "    'it', 'its', 'itself', 'they', 'them', 'their', 'theirs', 'themselves', 'what', 'which',\n",
    "    'who', 'whom', 'this', 'that', 'these', 'those', 'am', 'is', 'are', 'was', 'were', 'be',\n",
    "    'been', 'being', 'have', 'has', 'had', 'having', 'do', 'does', 'did', 'doing', 'a', 'an',\n",
    "    'the', 'and', 'but', 'if', 'or', 'because', 'as', 'until', 'while', 'of', 'at', 'by', 'for',\n",
    "    'with', 'about', 'against', 'between', 'into', 'through', 'during', 'before', 'after', 'above',\n",
    "    'below', 'to', 'from', 'up', 'down', 'in', 'out', 'on', 'off', 'over', 'under', 'again', 'further',\n",
    "    'then', 'once', 'here', 'there', 'when', 'where', 'why', 'how', 'all', 'any', 'both', 'each', 'few',\n",
    "    'more', 'most', 'other', 'some', 'such', 'no', 'nor', 'not', 'only', 'own', 'same', 'so', 'than',\n",
    "    'too', 'very', 's', 't', 'can', 'will', 'just', 'don', 'should', 'now', 'd', 'll', 'm', 'o', 're',\n",
    "    've', 'y', 'ain', 'aren', 'couldn', 'didn', 'doesn', 'hadn', 'hasn', 'haven', 'isn', 'ma', 'mightn',\n",
    "    'mustn', 'needn', 'shan', 'shouldn', 'wasn', 'weren', 'won', 'wouldn'\n",
    "]\n",
    "\n",
    "# Function to remove stopwords and get common words\n",
    "def remove_stopwords(text, stopwords):\n",
    "    words = re.findall(r'\\b\\w+\\b', str(text).lower())  # Tokenize and lowercase\n",
    "    filtered_words = [word for word in words if word not in stopwords]  # Remove stopwords\n",
    "    return filtered_words\n",
    "\n",
    "# Apply the function to remove stopwords from text\n",
    "df_cleaned['filtered_words'] = df_cleaned['post_text'].apply(lambda x: remove_stopwords(x, stopwords))\n",
    "\n",
    "# Flatten the list of filtered words\n",
    "all_filtered_words = [word for word_list in df_cleaned['filtered_words'] for word in word_list]\n",
    "\n",
    "# Count the words\n",
    "word_counter = Counter(all_filtered_words)\n",
    "\n",
    "# Total filtered words\n",
    "total_filtered_words = sum(word_counter.values())\n",
    "\n",
    "# Create DataFrame table for word counts\n",
    "word_count_df = pd.DataFrame(word_counter.items(), columns=['Word', 'Count'])\n",
    "word_count_df = word_count_df.sort_values(by='Count', ascending=False).reset_index(drop=True)\n",
    "\n",
    "# Output results\n",
    "print(f\"Total filtered words (after removing stopwords): {total_filtered_words}\")\n",
    "print(\"\\nTop Common Words (After Removing Stopwords):\")\n",
    "print(word_count_df.head(10))  # Display the top common words\n"
   ]
  },
  {
   "cell_type": "code",
<<<<<<< HEAD
   "execution_count": null,
   "id": "91d5e51a",
=======
   "execution_count": 29,
   "id": "9a0029e0",
   "metadata": {},
   "outputs": [],
   "source": [
    "df[df[\"label\"] == 0].post_text.to_csv(\"not_mental_health.csv\", index=False)\n",
    "df[df[\"label\"] == 1].post_text.to_csv(\"mental_health.csv\", index=False)"
   ]
  },
  {
   "cell_type": "code",
   "execution_count": 39,
   "id": "25e12e7e",
   "metadata": {},
   "outputs": [],
   "source": [
    "df_cleaned = pd.read_csv(r'Mental-Health-Twitter-Preprocessed.csv')"
   ]
  },
  {
   "cell_type": "code",
   "execution_count": 40,
   "id": "38cc9d4c",
   "metadata": {},
   "outputs": [
    {
     "name": "stdout",
     "output_type": "stream",
     "text": [
      "\n",
      "Top Common Words for Negative Tweets:\n",
      "         Word  Count\n",
      "0  depression    817\n",
      "1        like    512\n",
      "2         get    391\n",
      "3         one    327\n",
      "4        know    316\n",
      "5      people    312\n",
      "6        love    304\n",
      "7       would    297\n",
      "8  treatments    266\n",
      "9        want    251\n",
      "\n",
      "Top Common Words for Postive Tweets:\n",
      "      Word  Count\n",
      "0     like    458\n",
      "1      one    361\n",
      "2    trump    324\n",
      "3    thank    320\n",
      "4     know    320\n",
      "5      say    306\n",
      "6     love    281\n",
      "7   people    274\n",
      "8     yong    263\n",
      "9  twitter    260\n"
     ]
    },
    {
     "data": {
      "image/png": "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",
      "text/plain": [
       "<Figure size 1600x600 with 2 Axes>"
      ]
     },
     "metadata": {},
     "output_type": "display_data"
    }
   ],
   "source": [
    "import re\n",
    "from collections import Counter\n",
    "import pandas as pd\n",
    "import matplotlib.pyplot as plt\n",
    "\n",
    "# Your custom stopwords\n",
    "stopwords = [\n",
    "    'i', 'me', 'my', 'myself', 'we', 'our', 'ours', 'ourselves', 'you', 'your', 'yours',\n",
    "    'yourself', 'yourselves', 'he', 'him', 'his', 'himself', 'she', 'her', 'hers', 'herself',\n",
    "    'it', 'its', 'itself', 'they', 'them', 'their', 'theirs', 'themselves', 'what', 'which',\n",
    "    'who', 'whom', 'this', 'that', 'these', 'those', 'am', 'is', 'are', 'was', 'were', 'be',\n",
    "    'been', 'being', 'have', 'has', 'had', 'having', 'do', 'does', 'did', 'doing', 'a', 'an',\n",
    "    'the', 'and', 'but', 'if', 'or', 'because', 'as', 'until', 'while', 'of', 'at', 'by', 'for',\n",
    "    'with', 'about', 'against', 'between', 'into', 'through', 'during', 'before', 'after', 'above',\n",
    "    'below', 'to', 'from', 'up', 'down', 'in', 'out', 'on', 'off', 'over', 'under', 'again', 'further',\n",
    "    'then', 'once', 'here', 'there', 'when', 'where', 'why', 'how', 'all', 'any', 'both', 'each', 'few',\n",
    "    'more', 'most', 'other', 'some', 'such', 'no', 'nor', 'not', 'only', 'own', 'same', 'so', 'than',\n",
    "    'too', 'very', 's', 't', 'can', 'will', 'just', 'don', 'should', 'now', 'd', 'll', 'm', 'o', 're',\n",
    "    've', 'y', 'ain', 'aren', 'couldn', 'didn', 'doesn', 'hadn', 'hasn', 'haven', 'isn', 'ma', 'mightn',\n",
    "    'mustn', 'needn', 'shan', 'shouldn', 'wasn', 'weren', 'won', 'wouldn'\n",
    "]\n",
    "\n",
    "# Function to clean and remove stopwords\n",
    "def remove_stopwords(text, stopwords):\n",
    "    words = re.findall(r'\\b\\w+\\b', str(text).lower())\n",
    "    filtered_words = [word for word in words if word not in stopwords]\n",
    "    return filtered_words\n",
    "\n",
    "# Separate the data by labels\n",
    "df_label_1 = df_cleaned[df_cleaned['label'] == 1]\n",
    "df_label_0 = df_cleaned[df_cleaned['label'] == 0]\n",
    "\n",
    "# Process label 1\n",
    "filtered_words_label_1 = df_label_1['post_text'].apply(lambda x: remove_stopwords(x, stopwords))\n",
    "all_words_label_1 = [word for word_list in filtered_words_label_1 for word in word_list]\n",
    "counter_label_1 = Counter(all_words_label_1)\n",
    "\n",
    "# Process label 0\n",
    "filtered_words_label_0 = df_label_0['post_text'].apply(lambda x: remove_stopwords(x, stopwords))\n",
    "all_words_label_0 = [word for word_list in filtered_words_label_0 for word in word_list]\n",
    "counter_label_0 = Counter(all_words_label_0)\n",
    "\n",
    "# Create DataFrames\n",
    "word_count_df_label_1 = pd.DataFrame(counter_label_1.items(), columns=['Word', 'Count']).sort_values(by='Count', ascending=False).reset_index(drop=True)\n",
    "word_count_df_label_0 = pd.DataFrame(counter_label_0.items(), columns=['Word', 'Count']).sort_values(by='Count', ascending=False).reset_index(drop=True)\n",
    "\n",
    "# Output Top 10 Words\n",
    "print(f\"\\nTop Common Words for Negative Tweets:\")\n",
    "print(word_count_df_label_1.head(10))\n",
    "print(f\"\\nTop Common Words for Postive Tweets:\")\n",
    "print(word_count_df_label_0.head(10))\n",
    "# ===== Plot graphs =====\n",
    "\n",
    "# Select top 10 words\n",
    "top10_label_1 = word_count_df_label_1.head(10)\n",
    "top10_label_0 = word_count_df_label_0.head(10)\n",
    "\n",
    "# Create a figure with 2 subplots\n",
    "fig, axes = plt.subplots(1, 2, figsize=(16, 6))\n",
    "\n",
    "# Plot for Label 1\n",
    "axes[0].barh(top10_label_1['Word'], top10_label_1['Count'], color='skyblue')\n",
    "axes[0].invert_yaxis()\n",
    "axes[0].set_title('Top 10 Common Words - Negative Tweets')\n",
    "axes[0].set_xlabel('Count')\n",
    "axes[0].set_ylabel('Word')\n",
    "\n",
    "# Plot for Label 0\n",
    "axes[1].barh(top10_label_0['Word'], top10_label_0['Count'], color='lightgreen')\n",
    "axes[1].invert_yaxis()\n",
    "axes[1].set_title('Top 10 Common Words - Positive Tweets')\n",
    "axes[1].set_xlabel('Count')\n",
    "axes[1].set_ylabel('Word')\n",
    "\n",
    "# Adjust layout\n",
    "plt.tight_layout()\n",
    "plt.show()\n"
   ]
  },
  {
   "cell_type": "code",
   "execution_count": null,
   "id": "2dd17e81",
>>>>>>> a87557f2f11f6bb3eb04890ee68200a6e14c1a59
   "metadata": {},
   "outputs": [],
   "source": []
  }
 ],
 "metadata": {
  "kernelspec": {
   "display_name": "studysession",
   "language": "python",
   "name": "python3"
  },
  "language_info": {
   "codemirror_mode": {
    "name": "ipython",
    "version": 3
   },
   "file_extension": ".py",
   "mimetype": "text/x-python",
   "name": "python",
   "nbconvert_exporter": "python",
   "pygments_lexer": "ipython3",
   "version": "3.11.5"
  }
 },
 "nbformat": 4,
 "nbformat_minor": 5
}
