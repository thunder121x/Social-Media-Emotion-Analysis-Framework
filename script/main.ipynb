{
 "cells": [
  {
   "cell_type": "code",
   "execution_count": 3,
   "id": "299ab90e",
   "metadata": {},
   "outputs": [],
   "source": [
    "import pandas as pd\n",
    "import re\n",
    "import emoji\n",
    "import contractions\n",
    "import json\n",
    "import nltk\n",
    "from nltk.corpus import words\n",
    "\n",
    "# Prepare external resources\n",
    "nltk.download('words', quiet=True)\n",
    "standard_words = set(words.words())\n",
    "\n",
    "# Load slang dictionary\n",
    "with open('../resource/slang.json', 'r', encoding='utf-8') as f:\n",
    "    slang_dict = json.load(f)\n",
    "\n",
    "def preprocess_text_to_df_with_ohe(text):\n",
    "    # Step 1: Remove URLs\n",
    "    url_pattern = r'http\\S+|www\\S+'\n",
    "    has_url = int(bool(re.search(url_pattern, text)))\n",
    "    text = re.sub(url_pattern, '', text)\n",
    "\n",
    "    # Step 2: Remove Mentions\n",
    "    mention_pattern = r'@\\w+'\n",
    "    has_mention = int(bool(re.search(mention_pattern, text)))\n",
    "    text = re.sub(mention_pattern, '', text)\n",
    "\n",
    "    # Step 3: Extract Hashtags\n",
    "    hashtags = re.findall(r'#\\w+', text)\n",
    "    text = re.sub(r'#\\w+', '', text)\n",
    "\n",
    "    # Step 4: Convert Emojis\n",
    "    text = emoji.demojize(text, language='en')\n",
    "    text = re.sub(r':([a-zA-Z_]+):', r' \\1 ', text)\n",
    "    text = text.replace('_', ' ')\n",
    "    text = re.sub(r'\\s+', ' ', text).strip()\n",
    "\n",
    "    # Step 5: Expand Contractions\n",
    "    text = contractions.fix(text)\n",
    "\n",
    "    # Step 6: Remove special characters\n",
    "    text = re.sub(r'[^\\w\\s]', '', text)\n",
    "\n",
    "    # Step 7: Normalize case\n",
    "    text = text.lower().strip()\n",
    "\n",
    "    # Step 8: Normalize slang\n",
    "    words_list = text.split()\n",
    "    normalized = [slang_dict.get(w, w) if w not in standard_words else w for w in words_list]\n",
    "    text = ' '.join(normalized)\n",
    "\n",
    "    # Step 9: One-hot encode hashtags\n",
    "    hashtag_ohe = {tag.lower(): 1 for tag in hashtags}\n",
    "    all_cols = set([tag.lower() for tag in hashtags])\n",
    "\n",
    "    base_data = {\n",
    "        'post_text': text,\n",
    "        'URLs': has_url,\n",
    "        'Mentions': has_mention,\n",
    "    }\n",
    "\n",
    "    # Combine base data with OHE tags\n",
    "    final_data = {**base_data, **hashtag_ohe}\n",
    "    return pd.DataFrame([final_data])\n"
   ]
  },
  {
   "cell_type": "code",
   "execution_count": 4,
   "id": "4631b1e0",
   "metadata": {},
   "outputs": [
    {
     "name": "stdout",
     "output_type": "stream",
     "text": [
      "                                           post_text  URLs  Mentions  #a14\n",
      "0  it is sunday i need a break so i am planning t...     1         0     1\n"
     ]
    }
   ],
   "source": [
    "text = \"It is Sunday I need a break so I am planning to go out. #A14 http://example.com\"\n",
    "df = preprocess_text_to_df_with_ohe(text)\n",
    "print(df)\n"
   ]
  },
  {
   "cell_type": "code",
   "execution_count": 16,
   "id": "d0748fb9",
   "metadata": {},
   "outputs": [],
   "source": [
    "import nltk\n",
    "from nltk.tokenize import word_tokenize\n",
    "from nltk import pos_tag\n",
    "from nltk.corpus import wordnet, stopwords\n",
    "from nltk.stem import WordNetLemmatizer\n",
    "\n",
    "# Ensure necessary resources are downloaded\n",
    "nltk.download('punkt', quiet=True)\n",
    "nltk.download('averaged_perceptron_tagger', quiet=True)\n",
    "nltk.download('wordnet', quiet=True)\n",
    "nltk.download('stopwords', quiet=True)\n",
    "\n",
    "lemmatizer = WordNetLemmatizer()\n",
    "stop_words = set(stopwords.words('english'))\n",
    "\n",
    "# POS tag converter\n",
    "def get_wordnet_pos(tag):\n",
    "    if tag.startswith('J'):\n",
    "        return wordnet.ADJ\n",
    "    elif tag.startswith('V'):\n",
    "        return wordnet.VERB\n",
    "    elif tag.startswith('N'):\n",
    "        return wordnet.NOUN\n",
    "    elif tag.startswith('R'):\n",
    "        return wordnet.ADV\n",
    "    else:\n",
    "        return wordnet.NOUN  # default\n",
    "\n",
    "def remove_stopword(tokens):\n",
    "    return [word for word in tokens if word not in stop_words]\n",
    "\n",
    "def lemmatize_tokens(tokens):\n",
    "    pos_tags = pos_tag(tokens)\n",
    "    return [lemmatizer.lemmatize(word, get_wordnet_pos(tag)) for word, tag in pos_tags]\n",
    "\n",
    "def tokenize_and_process_text(df):\n",
    "    # Create a copy to avoid modifying original\n",
    "    df = df.copy()\n",
    "\n",
    "    # Tokenize\n",
    "    df['tokens'] = df['post_text'].apply(lambda x: word_tokenize(x.lower()))\n",
    "\n",
    "    # Remove stopwords\n",
    "    df['processed_tokens'] = df['tokens'].apply(remove_stopword)\n",
    "\n",
    "    # Lemmatize\n",
    "    df['processed_tokens'] = df['processed_tokens'].apply(lemmatize_tokens)\n",
    "\n",
    "    df = df.drop(['post_text', 'tokens'], axis=1)\n",
    "\n",
    "    return df\n"
   ]
  },
  {
   "cell_type": "code",
   "execution_count": 17,
   "id": "58375cb8",
   "metadata": {},
   "outputs": [
    {
     "name": "stdout",
     "output_type": "stream",
     "text": [
      "   URLs  Mentions  #a14                 processed_tokens\n",
      "0     1         0     1  [sunday, need, break, plan, go]\n"
     ]
    }
   ],
   "source": [
    "# First: use preprocess_text_to_df_with_ohe() on a raw text\n",
    "df_preprocessed = preprocess_text_to_df_with_ohe(\"It is Sunday I need a break so I am planning to go out. #A14 http://example.com\")\n",
    "\n",
    "# Then: apply this tokenizing and processing function\n",
    "df_final = tokenize_and_process_text(df_preprocessed)\n",
    "\n",
    "print(df_final)\n"
   ]
  },
  {
   "cell_type": "code",
   "execution_count": null,
   "id": "caf36162",
   "metadata": {},
   "outputs": [],
   "source": []
  }
 ],
 "metadata": {
  "kernelspec": {
   "display_name": "studysession",
   "language": "python",
   "name": "python3"
  },
  "language_info": {
   "codemirror_mode": {
    "name": "ipython",
    "version": 3
   },
   "file_extension": ".py",
   "mimetype": "text/x-python",
   "name": "python",
   "nbconvert_exporter": "python",
   "pygments_lexer": "ipython3",
   "version": "3.11.5"
  }
 },
 "nbformat": 4,
 "nbformat_minor": 5
}
