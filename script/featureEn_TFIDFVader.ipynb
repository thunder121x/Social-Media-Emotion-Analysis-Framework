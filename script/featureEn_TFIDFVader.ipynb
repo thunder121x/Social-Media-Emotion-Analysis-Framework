{
 "cells": [
  {
   "cell_type": "code",
   "execution_count": 21,
   "id": "b106af69",
   "metadata": {},
   "outputs": [],
   "source": [
    "import pandas as pd\n",
    "import numpy as np\n",
    "from sklearn.feature_extraction.text import TfidfVectorizer\n",
    "import pandas as pd\n",
    "from sklearn.linear_model import LogisticRegression\n",
    "from sklearn.metrics import classification_report\n",
    "\n",
    "\n",
    "df_train = pd.read_csv('../resource/Mental-Health-Twitter-Preprocessed/train.csv')\n",
    "df_val = pd.read_csv('../resource/Mental-Health-Twitter-Preprocessed/val.csv')"
   ]
  },
  {
   "cell_type": "markdown",
   "id": "88cd1c13",
   "metadata": {},
   "source": [
    "# TF-IDF"
   ]
  },
  {
   "cell_type": "code",
   "execution_count": 14,
   "id": "3faddf8e",
   "metadata": {},
   "outputs": [],
   "source": [
    "def extract_tfidf_features(df_train, df_val, text_column='post_text', max_features=5000):\n",
    "    \"\"\"\n",
    "    Transforms train and validation DataFrames using TF-IDF vectorization.\n",
    "    \n",
    "    Parameters:\n",
    "        df_train (pd.DataFrame): Training set containing a 'post_text' column.\n",
    "        df_val (pd.DataFrame): Validation set with the same structure.\n",
    "        text_column (str): Name of the text column to vectorize.\n",
    "        max_features (int): Maximum number of features for TF-IDF.\n",
    "        \n",
    "    Returns:\n",
    "        tfidf_X_train (pd.DataFrame): TF-IDF features for training set.\n",
    "        tfidf_X_val (pd.DataFrame): TF-IDF features for validation set.\n",
    "        vectorizer (TfidfVectorizer): The fitted vectorizer (for later use on test data).\n",
    "    \"\"\"\n",
    "    vectorizer = TfidfVectorizer(max_features=max_features)\n",
    "    tfidf_train = vectorizer.fit_transform(df_train[text_column])\n",
    "    tfidf_val = vectorizer.transform(df_val[text_column])\n",
    "    \n",
    "    feature_names = vectorizer.get_feature_names_out()\n",
    "    \n",
    "    tfidf_X_train = pd.DataFrame(tfidf_train.toarray(), columns=feature_names, index=df_train.index)\n",
    "    tfidf_X_val = pd.DataFrame(tfidf_val.toarray(), columns=feature_names, index=df_val.index)\n",
    "    \n",
    "    return tfidf_X_train, tfidf_X_val, vectorizer\n"
   ]
  },
  {
   "cell_type": "code",
   "execution_count": 15,
   "id": "26df8f16",
   "metadata": {},
   "outputs": [
    {
     "name": "stdout",
     "output_type": "stream",
     "text": [
      "              precision    recall  f1-score   support\n",
      "\n",
      "           0       0.74      0.74      0.74      1481\n",
      "           1       0.74      0.74      0.74      1484\n",
      "\n",
      "    accuracy                           0.74      2965\n",
      "   macro avg       0.74      0.74      0.74      2965\n",
      "weighted avg       0.74      0.74      0.74      2965\n",
      "\n"
     ]
    }
   ],
   "source": [
    "X_train, X_val, tfidf_vectorizer = extract_tfidf_features(df_train, df_val)\n",
    "\n",
    "# Get target labels\n",
    "y_train = df_train['label']\n",
    "y_val = df_val['label']\n",
    "\n",
    "model = LogisticRegression(max_iter=1000)\n",
    "model.fit(X_train, y_train)\n",
    "y_pred = model.predict(X_val)\n",
    "\n",
    "print(classification_report(y_val, y_pred))"
   ]
  },
  {
   "cell_type": "markdown",
   "id": "d3152927",
   "metadata": {},
   "source": [
    "# TF-IDF & Vader"
   ]
  },
  {
   "cell_type": "code",
   "execution_count": 16,
   "id": "8f2483a1",
   "metadata": {},
   "outputs": [],
   "source": [
    "from sklearn.feature_extraction.text import TfidfVectorizer\n",
    "from vaderSentiment.vaderSentiment import SentimentIntensityAnalyzer\n",
    "import pandas as pd\n",
    "\n",
    "def extract_tfidf_features(df_train, df_val, text_column='post_text', max_features=5000):\n",
    "    \"\"\"\n",
    "    Transforms train and validation DataFrames using TF-IDF and VADER sentiment scores.\n",
    "    \n",
    "    Parameters:\n",
    "        df_train (pd.DataFrame): Training set with a text column.\n",
    "        df_val (pd.DataFrame): Validation set with the same structure.\n",
    "        text_column (str): Name of the column containing text.\n",
    "        max_features (int): Maximum number of TF-IDF features.\n",
    "        \n",
    "    Returns:\n",
    "        combined_train (pd.DataFrame): Combined TF-IDF + sentiment features for train.\n",
    "        combined_val (pd.DataFrame): Combined TF-IDF + sentiment features for val.\n",
    "        vectorizer (TfidfVectorizer): Fitted TF-IDF vectorizer.\n",
    "    \"\"\"\n",
    "    # TF-IDF\n",
    "    vectorizer = TfidfVectorizer(max_features=max_features)\n",
    "    tfidf_train = vectorizer.fit_transform(df_train[text_column])\n",
    "    tfidf_val = vectorizer.transform(df_val[text_column])\n",
    "    feature_names = vectorizer.get_feature_names_out()\n",
    "    tfidf_df_train = pd.DataFrame(tfidf_train.toarray(), columns=feature_names, index=df_train.index)\n",
    "    tfidf_df_val = pd.DataFrame(tfidf_val.toarray(), columns=feature_names, index=df_val.index)\n",
    "\n",
    "    # VADER Sentiment\n",
    "    analyzer = SentimentIntensityAnalyzer()\n",
    "    \n",
    "    def get_sentiment_scores(text):\n",
    "        return pd.Series(analyzer.polarity_scores(text))\n",
    "    \n",
    "    vader_train = df_train[text_column].apply(get_sentiment_scores)\n",
    "    vader_val = df_val[text_column].apply(get_sentiment_scores)\n",
    "\n",
    "    # Combine TF-IDF and Sentiment\n",
    "    combined_train = pd.concat([tfidf_df_train, vader_train], axis=1)\n",
    "    combined_val = pd.concat([tfidf_df_val, vader_val], axis=1)\n",
    "\n",
    "    return combined_train, combined_val, vectorizer\n"
   ]
  },
  {
   "cell_type": "code",
   "execution_count": 17,
   "id": "46acf3ad",
   "metadata": {},
   "outputs": [
    {
     "name": "stdout",
     "output_type": "stream",
     "text": [
      "              precision    recall  f1-score   support\n",
      "\n",
      "           0       0.73      0.73      0.73      1481\n",
      "           1       0.73      0.74      0.73      1484\n",
      "\n",
      "    accuracy                           0.73      2965\n",
      "   macro avg       0.73      0.73      0.73      2965\n",
      "weighted avg       0.73      0.73      0.73      2965\n",
      "\n"
     ]
    }
   ],
   "source": [
    "X_train, X_val, tfidf_vectorizer = extract_tfidf_features(df_train, df_val)\n",
    "\n",
    "# Target labels\n",
    "y_train = df_train['label']\n",
    "y_val = df_val['label']\n",
    "\n",
    "# Train and evaluate the model\n",
    "model = LogisticRegression(max_iter=1000)\n",
    "model.fit(X_train, y_train)\n",
    "y_pred = model.predict(X_val)\n",
    "\n",
    "print(classification_report(y_val, y_pred))"
   ]
  },
  {
   "cell_type": "markdown",
   "id": "39780c91",
   "metadata": {},
   "source": [
    "# TF-IDF & Vader (including nemerical)"
   ]
  },
  {
   "cell_type": "code",
   "execution_count": 18,
   "id": "35908541",
   "metadata": {},
   "outputs": [],
   "source": [
    "def extract_tfidf_features(df, vectorizer=None):\n",
    "    # 1. TF-IDF\n",
    "    if vectorizer is None:\n",
    "        vectorizer = TfidfVectorizer(max_features=5000)\n",
    "        tfidf_matrix = vectorizer.fit_transform(df['post_text'])\n",
    "    else:\n",
    "        tfidf_matrix = vectorizer.transform(df['post_text'])\n",
    "    tfidf_df = pd.DataFrame(tfidf_matrix.toarray(), columns=vectorizer.get_feature_names_out())\n",
    "\n",
    "    # 2. VADER sentiment\n",
    "    analyzer = SentimentIntensityAnalyzer()\n",
    "    sentiment_scores = df['post_text'].apply(lambda x: pd.Series(analyzer.polarity_scores(x)))\n",
    "    sentiment_scores.columns = ['vader_neg', 'vader_neu', 'vader_pos', 'vader_compound']\n",
    "\n",
    "    # 3. Numeric metadata features\n",
    "    numeric_cols = ['followers', 'friends', 'favourites', 'statuses', 'retweets']\n",
    "    metadata_df = df[numeric_cols].reset_index(drop=True)\n",
    "\n",
    "    # 4. Combine all features\n",
    "    combined_df = pd.concat([tfidf_df, sentiment_scores.reset_index(drop=True), metadata_df], axis=1)\n",
    "\n",
    "    return combined_df, vectorizer\n"
   ]
  },
  {
   "cell_type": "code",
   "execution_count": 20,
   "id": "cb9fc063",
   "metadata": {},
   "outputs": [
    {
     "name": "stdout",
     "output_type": "stream",
     "text": [
      "              precision    recall  f1-score   support\n",
      "\n",
      "           0       0.89      0.82      0.86      1481\n",
      "           1       0.83      0.90      0.87      1484\n",
      "\n",
      "    accuracy                           0.86      2965\n",
      "   macro avg       0.86      0.86      0.86      2965\n",
      "weighted avg       0.86      0.86      0.86      2965\n",
      "\n"
     ]
    },
    {
     "name": "stderr",
     "output_type": "stream",
     "text": [
      "/Users/nanphattongsirisukool/Documents/GitHub/Social-Media-Emotion-Analysis-Framework/studysession/lib/python3.11/site-packages/sklearn/linear_model/_logistic.py:465: ConvergenceWarning: lbfgs failed to converge (status=1):\n",
      "STOP: TOTAL NO. of ITERATIONS REACHED LIMIT.\n",
      "\n",
      "Increase the number of iterations (max_iter) or scale the data as shown in:\n",
      "    https://scikit-learn.org/stable/modules/preprocessing.html\n",
      "Please also refer to the documentation for alternative solver options:\n",
      "    https://scikit-learn.org/stable/modules/linear_model.html#logistic-regression\n",
      "  n_iter_i = _check_optimize_result(\n"
     ]
    }
   ],
   "source": [
    "# Separate labels\n",
    "y_train = df_train['label']\n",
    "y_val = df_val['label']\n",
    "\n",
    "# Extract features\n",
    "X_train, vectorizer = extract_tfidf_features(df_train)\n",
    "X_val, _ = extract_tfidf_features(df_val, vectorizer=vectorizer)\n",
    "\n",
    "# Train and evaluate the model\n",
    "model = LogisticRegression(max_iter=1000)\n",
    "model.fit(X_train, y_train)\n",
    "y_pred = model.predict(X_val)\n",
    "\n",
    "print(classification_report(y_val, y_pred))"
   ]
  },
  {
   "cell_type": "code",
   "execution_count": null,
   "id": "4273ab0a",
   "metadata": {},
   "outputs": [],
   "source": []
  }
 ],
 "metadata": {
  "kernelspec": {
   "display_name": "studysession",
   "language": "python",
   "name": "python3"
  },
  "language_info": {
   "codemirror_mode": {
    "name": "ipython",
    "version": 3
   },
   "file_extension": ".py",
   "mimetype": "text/x-python",
   "name": "python",
   "nbconvert_exporter": "python",
   "pygments_lexer": "ipython3",
   "version": "3.11.5"
  }
 },
 "nbformat": 4,
 "nbformat_minor": 5
}
