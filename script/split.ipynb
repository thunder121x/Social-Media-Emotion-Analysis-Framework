{
 "cells": [
  {
   "cell_type": "code",
   "execution_count": null,
   "id": "eed50b1c",
   "metadata": {},
   "outputs": [],
   "source": [
    "import pandas as pd\n",
    "from sklearn.model_selection import train_test_split\n",
    "\n",
    "# Load your dataset\n",
    "df = pd.read_csv('../resource/Mental-Health-Twitter-Preprocessed.csv') "
   ]
  },
  {
   "cell_type": "code",
   "execution_count": 15,
   "id": "8011370e",
   "metadata": {},
   "outputs": [
    {
     "name": "stdout",
     "output_type": "stream",
     "text": [
      "Train label counts:\n",
      " label\n",
      "1    6921\n",
      "0    6915\n",
      "Name: count, dtype: int64\n",
      "Validation label counts:\n",
      " label\n",
      "1    1484\n",
      "0    1481\n",
      "Name: count, dtype: int64\n",
      "Test label counts:\n",
      " label\n",
      "1    1483\n",
      "0    1482\n",
      "Name: count, dtype: int64\n"
     ]
    }
   ],
   "source": [
    "# First split: train vs temp (val + test)\n",
    "train_df, temp_df = train_test_split(\n",
    "    df, \n",
    "    test_size=0.3, \n",
    "    stratify=df['label'], \n",
    "    random_state=42\n",
    ")\n",
    "\n",
    "# Second split: val vs test\n",
    "val_df, test_df = train_test_split(\n",
    "    temp_df,\n",
    "    test_size=0.5, \n",
    "    stratify=temp_df['label'], \n",
    "    random_state=42\n",
    ")\n",
    "\n",
    "# Optional: check the label distribution\n",
    "print(\"Train label counts:\\n\", train_df['label'].value_counts())\n",
    "print(\"Validation label counts:\\n\", val_df['label'].value_counts())\n",
    "print(\"Test label counts:\\n\", test_df['label'].value_counts())\n",
    "\n",
    "# Save if needed\n",
    "train_df.to_csv('../resource/Mental-Health-Twitter-Preprocessed/train.csv', index=False)\n",
    "val_df.to_csv('../resource/Mental-Health-Twitter-Preprocessed/val.csv', index=False)\n",
    "test_df.to_csv('../resource/Mental-Health-Twitter-Preprocessed/test.csv', index=False)"
   ]
  },
  {
   "cell_type": "code",
   "execution_count": 17,
   "id": "81c3c1ab",
   "metadata": {},
   "outputs": [],
   "source": [
    "import pandas as pd\n",
    "from sklearn.model_selection import train_test_split\n",
    "\n",
    "# Load your dataset\n",
    "df = pd.read_csv('../resource/Mental-Health-Twitter-Tokenized.csv') "
   ]
  },
  {
   "cell_type": "code",
   "execution_count": 18,
   "id": "969175be",
   "metadata": {},
   "outputs": [
    {
     "name": "stdout",
     "output_type": "stream",
     "text": [
      "Train label counts:\n",
      " label\n",
      "1    6921\n",
      "0    6915\n",
      "Name: count, dtype: int64\n",
      "Validation label counts:\n",
      " label\n",
      "1    1484\n",
      "0    1481\n",
      "Name: count, dtype: int64\n",
      "Test label counts:\n",
      " label\n",
      "1    1483\n",
      "0    1482\n",
      "Name: count, dtype: int64\n"
     ]
    }
   ],
   "source": [
    "# First split: train vs temp (val + test)\n",
    "train_df, temp_df = train_test_split(\n",
    "    df, \n",
    "    test_size=0.3, \n",
    "    stratify=df['label'], \n",
    "    random_state=42\n",
    ")\n",
    "\n",
    "# Second split: val vs test\n",
    "val_df, test_df = train_test_split(\n",
    "    temp_df,\n",
    "    test_size=0.5, \n",
    "    stratify=temp_df['label'], \n",
    "    random_state=42\n",
    ")\n",
    "\n",
    "# Optional: check the label distribution\n",
    "print(\"Train label counts:\\n\", train_df['label'].value_counts())\n",
    "print(\"Validation label counts:\\n\", val_df['label'].value_counts())\n",
    "print(\"Test label counts:\\n\", test_df['label'].value_counts())\n",
    "\n",
    "# Save if needed\n",
    "train_df.to_csv('../resource/Mental-Health-Twitter-Tokenized/train.csv', index=False)\n",
    "val_df.to_csv('../resource/Mental-Health-Twitter-Tokenized/val.csv', index=False)\n",
    "test_df.to_csv('../resource/Mental-Health-Twitter-Tokenized/test.csv', index=False)"
   ]
  },
  {
   "cell_type": "code",
   "execution_count": null,
   "id": "40eecb94",
   "metadata": {},
   "outputs": [],
   "source": []
  }
 ],
 "metadata": {
  "kernelspec": {
   "display_name": "studysession",
   "language": "python",
   "name": "python3"
  },
  "language_info": {
   "codemirror_mode": {
    "name": "ipython",
    "version": 3
   },
   "file_extension": ".py",
   "mimetype": "text/x-python",
   "name": "python",
   "nbconvert_exporter": "python",
   "pygments_lexer": "ipython3",
   "version": "3.11.5"
  }
 },
 "nbformat": 4,
 "nbformat_minor": 5
}
