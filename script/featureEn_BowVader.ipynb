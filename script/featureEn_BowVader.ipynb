{
 "cells": [
  {
   "cell_type": "code",
   "execution_count": 13,
   "id": "b106af69",
   "metadata": {},
   "outputs": [],
   "source": [
    "import pandas as pd\n",
    "import numpy as np\n",
    "from sklearn.feature_extraction.text import TfidfVectorizer\n",
    "import pandas as pd\n",
    "from sklearn.linear_model import LogisticRegression\n",
    "from sklearn.metrics import classification_report\n",
    "\n",
    "\n",
    "df_train = pd.read_csv('../resource/Mental-Health-Twitter-Preprocessed/train.csv')\n",
    "df_val = pd.read_csv('../resource/Mental-Health-Twitter-Preprocessed/val.csv')"
   ]
  },
  {
   "cell_type": "markdown",
   "id": "88cd1c13",
   "metadata": {},
   "source": [
    "# Bow"
   ]
  },
  {
   "cell_type": "code",
   "execution_count": 3,
   "id": "3faddf8e",
   "metadata": {},
   "outputs": [],
   "source": [
    "from sklearn.feature_extraction.text import CountVectorizer\n",
    "\n",
    "def extract_bow_features(df_train, df_val, text_column='post_text', max_features=5000):\n",
    "    \"\"\"\n",
    "    Transforms train and validation DataFrames using Bag-of-Words (BoW) vectorization.\n",
    "    \n",
    "    Parameters:\n",
    "        df_train (pd.DataFrame): Training set containing a text column.\n",
    "        df_val (pd.DataFrame): Validation set with the same structure.\n",
    "        text_column (str): Name of the text column to vectorize.\n",
    "        max_features (int): Maximum number of features for BoW.\n",
    "        \n",
    "    Returns:\n",
    "        bow_X_train (pd.DataFrame): BoW features for training set.\n",
    "        bow_X_val (pd.DataFrame): BoW features for validation set.\n",
    "        vectorizer (CountVectorizer): The fitted vectorizer (for later use on test data).\n",
    "    \"\"\"\n",
    "    vectorizer = CountVectorizer(max_features=max_features)\n",
    "    bow_train = vectorizer.fit_transform(df_train[text_column])\n",
    "    bow_val = vectorizer.transform(df_val[text_column])\n",
    "    \n",
    "    feature_names = vectorizer.get_feature_names_out()\n",
    "    \n",
    "    bow_X_train = pd.DataFrame(bow_train.toarray(), columns=feature_names, index=df_train.index)\n",
    "    bow_X_val = pd.DataFrame(bow_val.toarray(), columns=feature_names, index=df_val.index)\n",
    "    \n",
    "    return bow_X_train, bow_X_val, vectorizer"
   ]
  },
  {
   "cell_type": "code",
   "execution_count": 4,
   "id": "26df8f16",
   "metadata": {},
   "outputs": [
    {
     "name": "stdout",
     "output_type": "stream",
     "text": [
      "              precision    recall  f1-score   support\n",
      "\n",
      "           0       0.73      0.76      0.75      1481\n",
      "           1       0.75      0.73      0.74      1484\n",
      "\n",
      "    accuracy                           0.74      2965\n",
      "   macro avg       0.74      0.74      0.74      2965\n",
      "weighted avg       0.74      0.74      0.74      2965\n",
      "\n"
     ]
    }
   ],
   "source": [
    "X_train, X_val, tfidf_vectorizer = extract_bow_features(df_train, df_val)\n",
    "\n",
    "# Get target labels\n",
    "y_train = df_train['label']\n",
    "y_val = df_val['label']\n",
    "\n",
    "model = LogisticRegression(max_iter=1000)\n",
    "model.fit(X_train, y_train)\n",
    "y_pred = model.predict(X_val)\n",
    "\n",
    "print(classification_report(y_val, y_pred))"
   ]
  },
  {
   "cell_type": "markdown",
   "id": "d3152927",
   "metadata": {},
   "source": [
    "# Bow & Vader"
   ]
  },
  {
   "cell_type": "code",
   "execution_count": 5,
   "id": "8f2483a1",
   "metadata": {},
   "outputs": [],
   "source": [
    "from sklearn.feature_extraction.text import CountVectorizer\n",
    "from vaderSentiment.vaderSentiment import SentimentIntensityAnalyzer\n",
    "import pandas as pd\n",
    "\n",
    "def extract_bow_features(df_train, df_val, text_column='post_text', max_features=5000):\n",
    "    \"\"\"\n",
    "    Transforms train and validation DataFrames using Bag-of-Words (BoW) and VADER sentiment scores.\n",
    "    \n",
    "    Parameters:\n",
    "        df_train (pd.DataFrame): Training set with a text column.\n",
    "        df_val (pd.DataFrame): Validation set with the same structure.\n",
    "        text_column (str): Name of the column containing text.\n",
    "        max_features (int): Maximum number of BoW features.\n",
    "        \n",
    "    Returns:\n",
    "        combined_train (pd.DataFrame): Combined BoW + sentiment features for train.\n",
    "        combined_val (pd.DataFrame): Combined BoW + sentiment features for val.\n",
    "        vectorizer (CountVectorizer): Fitted BoW vectorizer.\n",
    "    \"\"\"\n",
    "    # Bag-of-Words (BoW)\n",
    "    vectorizer = CountVectorizer(max_features=max_features)\n",
    "    bow_train = vectorizer.fit_transform(df_train[text_column])\n",
    "    bow_val = vectorizer.transform(df_val[text_column])\n",
    "    feature_names = vectorizer.get_feature_names_out()\n",
    "    bow_df_train = pd.DataFrame(bow_train.toarray(), columns=feature_names, index=df_train.index)\n",
    "    bow_df_val = pd.DataFrame(bow_val.toarray(), columns=feature_names, index=df_val.index)\n",
    "\n",
    "    # VADER Sentiment (unchanged)\n",
    "    analyzer = SentimentIntensityAnalyzer()\n",
    "    \n",
    "    def get_sentiment_scores(text):\n",
    "        return pd.Series(analyzer.polarity_scores(text))\n",
    "    \n",
    "    vader_train = df_train[text_column].apply(get_sentiment_scores)\n",
    "    vader_val = df_val[text_column].apply(get_sentiment_scores)\n",
    "\n",
    "    # Combine BoW and Sentiment\n",
    "    combined_train = pd.concat([bow_df_train, vader_train], axis=1)\n",
    "    combined_val = pd.concat([bow_df_val, vader_val], axis=1)\n",
    "\n",
    "    return combined_train, combined_val, vectorizer"
   ]
  },
  {
   "cell_type": "code",
   "execution_count": 6,
   "id": "46acf3ad",
   "metadata": {},
   "outputs": [
    {
     "name": "stdout",
     "output_type": "stream",
     "text": [
      "              precision    recall  f1-score   support\n",
      "\n",
      "           0       0.73      0.75      0.74      1481\n",
      "           1       0.74      0.73      0.74      1484\n",
      "\n",
      "    accuracy                           0.74      2965\n",
      "   macro avg       0.74      0.74      0.74      2965\n",
      "weighted avg       0.74      0.74      0.74      2965\n",
      "\n"
     ]
    }
   ],
   "source": [
    "X_train, X_val, bow_vectorizer = extract_bow_features(df_train, df_val)\n",
    "\n",
    "# Target labels\n",
    "y_train = df_train['label']\n",
    "y_val = df_val['label']\n",
    "\n",
    "# Train and evaluate the model\n",
    "model = LogisticRegression(max_iter=1000)\n",
    "model.fit(X_train, y_train)\n",
    "y_pred = model.predict(X_val)\n",
    "\n",
    "print(classification_report(y_val, y_pred))"
   ]
  },
  {
   "cell_type": "markdown",
   "id": "39780c91",
   "metadata": {},
   "source": [
    "# Bow & Vader (including nemerical)"
   ]
  },
  {
   "cell_type": "code",
   "execution_count": 10,
   "id": "35908541",
   "metadata": {},
   "outputs": [],
   "source": [
    "from sklearn.feature_extraction.text import CountVectorizer\n",
    "from vaderSentiment.vaderSentiment import SentimentIntensityAnalyzer\n",
    "import pandas as pd\n",
    "\n",
    "def extract_bow_features(df, vectorizer=None):\n",
    "    \"\"\"\n",
    "    Extracts Bag-of-Words (BoW), VADER sentiment, and numeric metadata features from text data.\n",
    "    \n",
    "    Parameters:\n",
    "        df (pd.DataFrame): Input DataFrame containing text and metadata.\n",
    "        vectorizer (CountVectorizer, optional): Pre-fitted BoW vectorizer. If None, fits a new one.\n",
    "        \n",
    "    Returns:\n",
    "        combined_df (pd.DataFrame): Combined BoW + sentiment + metadata features.\n",
    "        vectorizer (CountVectorizer): Fitted BoW vectorizer (for reuse on new data).\n",
    "    \"\"\"\n",
    "    # 1. Bag-of-Words (BoW)\n",
    "    if vectorizer is None:\n",
    "        vectorizer = CountVectorizer(max_features=5000)\n",
    "        bow_matrix = vectorizer.fit_transform(df['post_text'])\n",
    "    else:\n",
    "        bow_matrix = vectorizer.transform(df['post_text'])\n",
    "    bow_df = pd.DataFrame(bow_matrix.toarray(), columns=vectorizer.get_feature_names_out())\n",
    "\n",
    "    # 2. VADER sentiment (unchanged)\n",
    "    analyzer = SentimentIntensityAnalyzer()\n",
    "    sentiment_scores = df['post_text'].apply(lambda x: pd.Series(analyzer.polarity_scores(x)))\n",
    "    sentiment_scores.columns = ['vader_neg', 'vader_neu', 'vader_pos', 'vader_compound']\n",
    "\n",
    "    # 3. Numeric metadata features (unchanged)\n",
    "    numeric_cols = ['followers', 'friends', 'favourites', 'statuses', 'retweets']\n",
    "    metadata_df = df[numeric_cols].reset_index(drop=True)\n",
    "\n",
    "    # 4. Combine all features\n",
    "    combined_df = pd.concat([bow_df, sentiment_scores.reset_index(drop=True), metadata_df], axis=1)\n",
    "\n",
    "    return combined_df, vectorizer"
   ]
  },
  {
   "cell_type": "code",
   "execution_count": 12,
   "id": "cb9fc063",
   "metadata": {},
   "outputs": [
    {
     "name": "stdout",
     "output_type": "stream",
     "text": [
      "              precision    recall  f1-score   support\n",
      "\n",
      "           0       0.89      0.84      0.86      1481\n",
      "           1       0.85      0.90      0.87      1484\n",
      "\n",
      "    accuracy                           0.87      2965\n",
      "   macro avg       0.87      0.87      0.87      2965\n",
      "weighted avg       0.87      0.87      0.87      2965\n",
      "\n"
     ]
    },
    {
     "name": "stderr",
     "output_type": "stream",
     "text": [
      "/Users/nanphattongsirisukool/Documents/GitHub/Social-Media-Emotion-Analysis-Framework/studysession/lib/python3.11/site-packages/sklearn/linear_model/_logistic.py:465: ConvergenceWarning: lbfgs failed to converge (status=1):\n",
      "STOP: TOTAL NO. of ITERATIONS REACHED LIMIT.\n",
      "\n",
      "Increase the number of iterations (max_iter) or scale the data as shown in:\n",
      "    https://scikit-learn.org/stable/modules/preprocessing.html\n",
      "Please also refer to the documentation for alternative solver options:\n",
      "    https://scikit-learn.org/stable/modules/linear_model.html#logistic-regression\n",
      "  n_iter_i = _check_optimize_result(\n"
     ]
    }
   ],
   "source": [
    "# Separate labels\n",
    "y_train = df_train['label']\n",
    "y_val = df_val['label']\n",
    "\n",
    "# Extract features\n",
    "X_train, vectorizer = extract_bow_features(df_train)\n",
    "X_val, _ = extract_bow_features(df_val, vectorizer=vectorizer)\n",
    "\n",
    "# Train and evaluate the model\n",
    "model = LogisticRegression(max_iter=1000)\n",
    "model.fit(X_train, y_train)\n",
    "y_pred = model.predict(X_val)\n",
    "\n",
    "print(classification_report(y_val, y_pred))"
   ]
  },
  {
   "cell_type": "code",
   "execution_count": null,
   "id": "4273ab0a",
   "metadata": {},
   "outputs": [],
   "source": []
  }
 ],
 "metadata": {
  "kernelspec": {
   "display_name": "studysession",
   "language": "python",
   "name": "python3"
  },
  "language_info": {
   "codemirror_mode": {
    "name": "ipython",
    "version": 3
   },
   "file_extension": ".py",
   "mimetype": "text/x-python",
   "name": "python",
   "nbconvert_exporter": "python",
   "pygments_lexer": "ipython3",
   "version": "3.11.5"
  }
 },
 "nbformat": 4,
 "nbformat_minor": 5
}
