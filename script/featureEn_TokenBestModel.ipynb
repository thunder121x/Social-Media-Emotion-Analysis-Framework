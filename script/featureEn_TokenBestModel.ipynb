{
 "cells": [
  {
   "cell_type": "code",
   "execution_count": 1,
   "id": "d4c5a8af",
   "metadata": {},
   "outputs": [],
   "source": [
    "import pandas as pd\n",
    "from sklearn.model_selection import train_test_split\n",
    "from sklearn.ensemble import RandomForestClassifier\n",
    "from sklearn.metrics import classification_report\n",
    "from sklearn.feature_extraction.text import TfidfVectorizer\n",
    "from sklearn.preprocessing import StandardScaler\n",
    "from scipy.sparse import hstack\n"
   ]
  },
  {
   "cell_type": "code",
   "execution_count": 2,
   "id": "a6d1582d",
   "metadata": {},
   "outputs": [],
   "source": [
    "# Step 1: Load Data\n",
    "df_train = pd.read_csv('../resource/Mental-Health-Twitter-Tokenized/train.csv')\n",
    "df_val = pd.read_csv('../resource/Mental-Health-Twitter-Tokenized/val.csv')\n",
    "df_test = pd.read_csv('../resource/Mental-Health-Twitter-Tokenized/test.csv')\n",
    "\n",
    "# Prepare the features and target variable\n",
    "X_train_text = df_train['processed_tokens']\n",
    "X_val_text = df_val['processed_tokens']\n",
    "X_test_text = df_test['processed_tokens']\n",
    "\n",
    "y_train = df_train['label']\n",
    "y_val = df_val['label']\n",
    "y_test = df_test['label']\n"
   ]
  },
  {
   "cell_type": "code",
   "execution_count": null,
   "id": "b78ad4c8",
   "metadata": {},
   "outputs": [],
   "source": [
    "# Step 2: Text Vectorization (TF-IDF)\n",
    "vectorizer = TfidfVectorizer(max_features=5000)\n",
    "\n",
    "# Convert processed tokens (list of tokens) to space-separated text\n",
    "X_train_text = X_train_text.apply(lambda x: ' '.join(eval(x)))\n",
    "X_val_text = X_val_text.apply(lambda x: ' '.join(eval(x)))\n",
    "X_test_text = X_test_text.apply(lambda x: ' '.join(eval(x)))\n",
    "\n",
    "# Transform the text data into TF-IDF features\n",
    "X_train_tfidf = vectorizer.fit_transform(X_train_text)\n",
    "X_val_tfidf = vectorizer.transform(X_val_text)\n",
    "X_test_tfidf = vectorizer.transform(X_test_text)\n"
   ]
  },
  {
   "cell_type": "code",
   "execution_count": 4,
   "id": "6e8b4622",
   "metadata": {},
   "outputs": [],
   "source": [
    "# Step 3: Numeric Features (followers, retweets, etc.)\n",
    "numeric_features_train = df_train[['followers', 'friends', 'favourites', 'statuses', 'retweets', 'URLs', 'Mentions']]\n",
    "numeric_features_val = df_val[['followers', 'friends', 'favourites', 'statuses', 'retweets', 'URLs', 'Mentions']]\n",
    "numeric_features_test = df_test[['followers', 'friends', 'favourites', 'statuses', 'retweets', 'URLs', 'Mentions']]\n",
    "\n",
    "# Standardize the numeric features\n",
    "scaler = StandardScaler()\n",
    "X_train_numeric = scaler.fit_transform(numeric_features_train)\n",
    "X_val_numeric = scaler.transform(numeric_features_val)\n",
    "X_test_numeric = scaler.transform(numeric_features_test)\n",
    "\n",
    "# Step 4: Combine Text and Numeric Features\n",
    "X_train_combined = hstack([X_train_tfidf, X_train_numeric])\n",
    "X_val_combined = hstack([X_val_tfidf, X_val_numeric])\n",
    "X_test_combined = hstack([X_test_tfidf, X_test_numeric])\n"
   ]
  },
  {
   "cell_type": "code",
   "execution_count": 5,
   "id": "56083b89",
   "metadata": {},
   "outputs": [
    {
     "name": "stdout",
     "output_type": "stream",
     "text": [
      "Validation Set Evaluation:\n",
      "              precision    recall  f1-score   support\n",
      "\n",
      "           0       1.00      0.99      1.00      1481\n",
      "           1       0.99      1.00      1.00      1484\n",
      "\n",
      "    accuracy                           1.00      2965\n",
      "   macro avg       1.00      1.00      1.00      2965\n",
      "weighted avg       1.00      1.00      1.00      2965\n",
      "\n"
     ]
    }
   ],
   "source": [
    "# Step 5: Train the Model\n",
    "model = RandomForestClassifier(random_state=42)\n",
    "model.fit(X_train_combined, y_train)\n",
    "\n",
    "# Step 6: Validation - Evaluate on the validation set\n",
    "y_val_pred = model.predict(X_val_combined)\n",
    "print(\"Validation Set Evaluation:\")\n",
    "print(classification_report(y_val, y_val_pred))\n",
    "\n",
    "# # Step 7: After Validation, Train on the Full Training + Validation Data\n",
    "# X_full_train = hstack([X_train_combined, X_val_combined])\n",
    "# y_full_train = pd.concat([y_train, y_val], axis=0)\n",
    "\n",
    "# # Re-train the model on the full training + validation data\n",
    "# model.fit(X_full_train, y_full_train)"
   ]
  },
  {
   "cell_type": "code",
   "execution_count": 6,
   "id": "f9e5a851",
   "metadata": {},
   "outputs": [
    {
     "name": "stdout",
     "output_type": "stream",
     "text": [
      "Test Set Evaluation (Final Model):\n",
      "              precision    recall  f1-score   support\n",
      "\n",
      "           0       1.00      0.99      1.00      1482\n",
      "           1       0.99      1.00      1.00      1483\n",
      "\n",
      "    accuracy                           1.00      2965\n",
      "   macro avg       1.00      1.00      1.00      2965\n",
      "weighted avg       1.00      1.00      1.00      2965\n",
      "\n"
     ]
    }
   ],
   "source": [
    "# Step 8: Final Testing - Evaluate on the test set\n",
    "y_test_pred = model.predict(X_test_combined)\n",
    "print(\"Test Set Evaluation (Final Model):\")\n",
    "print(classification_report(y_test, y_test_pred))"
   ]
  },
  {
   "cell_type": "code",
   "execution_count": null,
   "id": "27bfb563",
   "metadata": {},
   "outputs": [],
   "source": []
  }
 ],
 "metadata": {
  "kernelspec": {
   "display_name": "studysession",
   "language": "python",
   "name": "python3"
  },
  "language_info": {
   "codemirror_mode": {
    "name": "ipython",
    "version": 3
   },
   "file_extension": ".py",
   "mimetype": "text/x-python",
   "name": "python",
   "nbconvert_exporter": "python",
   "pygments_lexer": "ipython3",
   "version": "3.11.5"
  }
 },
 "nbformat": 4,
 "nbformat_minor": 5
}
