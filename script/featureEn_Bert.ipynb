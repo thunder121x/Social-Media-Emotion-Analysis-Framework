{
 "cells": [
  {
   "cell_type": "code",
   "execution_count": 2,
   "id": "b106af69",
   "metadata": {},
   "outputs": [],
   "source": [
    "import pandas as pd\n",
    "import numpy as np\n",
    "from sklearn.feature_extraction.text import TfidfVectorizer\n",
    "import pandas as pd\n",
    "from sklearn.linear_model import LogisticRegression\n",
    "from sklearn.metrics import classification_report\n",
    "\n",
    "\n",
    "df_train = pd.read_csv('../resource/Mental-Health-Twitter-Preprocessed/train.csv')\n",
    "df_val = pd.read_csv('../resource/Mental-Health-Twitter-Preprocessed/val.csv')"
   ]
  },
  {
   "cell_type": "markdown",
   "id": "39780c91",
   "metadata": {},
   "source": [
    "# Bert"
   ]
  },
  {
   "cell_type": "code",
   "execution_count": 1,
   "id": "35908541",
   "metadata": {},
   "outputs": [
    {
     "name": "stderr",
     "output_type": "stream",
     "text": [
      "/Users/nanphattongsirisukool/Documents/GitHub/Social-Media-Emotion-Analysis-Framework/studysession/lib/python3.11/site-packages/tqdm/auto.py:21: TqdmWarning: IProgress not found. Please update jupyter and ipywidgets. See https://ipywidgets.readthedocs.io/en/stable/user_install.html\n",
      "  from .autonotebook import tqdm as notebook_tqdm\n"
     ]
    }
   ],
   "source": [
    "from transformers import BertTokenizer, BertModel\n",
    "from sklearn.linear_model import LogisticRegression\n",
    "import torch\n",
    "import pandas as pd\n",
    "from vaderSentiment.vaderSentiment import SentimentIntensityAnalyzer\n",
    "\n",
    "def extract_bert_features(df, tokenizer=None, model=None, max_length=128):\n",
    "    \"\"\"\n",
    "    Extracts BERT embeddings, VADER sentiment, and numeric metadata features.\n",
    "    \n",
    "    Parameters:\n",
    "        df (pd.DataFrame): Input DataFrame containing text and metadata\n",
    "        tokenizer (BertTokenizer, optional): Pre-loaded BERT tokenizer\n",
    "        model (BertModel, optional): Pre-loaded BERT model\n",
    "        max_length (int): Maximum sequence length for BERT\n",
    "        \n",
    "    Returns:\n",
    "        combined_df (pd.DataFrame): Combined features (BERT + sentiment + metadata)\n",
    "        tokenizer (BertTokenizer): Tokenizer for reuse\n",
    "        model (BertModel): Model for reuse\n",
    "    \"\"\"\n",
    "    # 1. Load BERT if not provided\n",
    "    if tokenizer is None or model is None:\n",
    "        tokenizer = BertTokenizer.from_pretrained('bert-base-uncased')\n",
    "        model = BertModel.from_pretrained('bert-base-uncased')\n",
    "        device = torch.device('cuda' if torch.cuda.is_available() else 'cpu')\n",
    "        model = model.to(device)\n",
    "    \n",
    "    # 2. Get BERT embeddings\n",
    "    def get_bert_embeddings(text):\n",
    "        inputs = tokenizer(text, return_tensors='pt', \n",
    "                         truncation=True, padding=True,\n",
    "                         max_length=max_length)\n",
    "        inputs = {k:v.to(model.device) for k,v in inputs.items()}\n",
    "        with torch.no_grad():\n",
    "            outputs = model(**inputs)\n",
    "        return outputs.last_hidden_state[:,0,:].cpu().numpy().flatten()\n",
    "    \n",
    "    bert_embeddings = df['post_text'].apply(get_bert_embeddings)\n",
    "    bert_df = pd.DataFrame(bert_embeddings.tolist(), \n",
    "                          columns=[f'bert_{i}' for i in range(768)],\n",
    "                          index=df.index)\n",
    "\n",
    "    # 3. VADER sentiment (unchanged)\n",
    "    analyzer = SentimentIntensityAnalyzer()\n",
    "    sentiment_scores = df['post_text'].apply(lambda x: pd.Series(analyzer.polarity_scores(x)))\n",
    "    sentiment_scores.columns = ['vader_neg', 'vader_neu', 'vader_pos', 'vader_compound']\n",
    "\n",
    "    # 4. Numeric metadata (unchanged)\n",
    "    # numeric_cols = ['followers', 'friends', 'favourites', 'statuses', 'retweets']\n",
    "    # metadata_df = df[numeric_cols].reset_index(drop=True)\n",
    "\n",
    "    # 5. Combine features\n",
    "    combined_df = pd.concat([bert_df, sentiment_scores], axis=1)\n",
    "    \n",
    "    return combined_df, tokenizer, model\n",
    "\n",
    "def train_logistic_regression(train_features, train_labels):\n",
    "    \"\"\"\n",
    "    Trains a logistic regression model on BERT features\n",
    "    \n",
    "    Parameters:\n",
    "        train_features (pd.DataFrame): Combined features DataFrame\n",
    "        train_labels (pd.Series): Target labels\n",
    "        \n",
    "    Returns:\n",
    "        model (LogisticRegression): Trained logistic regression model\n",
    "    \"\"\"\n",
    "    model = LogisticRegression(max_iter=1000)\n",
    "    model.fit(train_features, train_labels)\n",
    "    return model"
   ]
  },
  {
   "cell_type": "code",
   "execution_count": 3,
   "id": "cb9fc063",
   "metadata": {},
   "outputs": [
    {
     "name": "stdout",
     "output_type": "stream",
     "text": [
      "              precision    recall  f1-score   support\n",
      "\n",
      "           0       0.72      0.70      0.71      1481\n",
      "           1       0.71      0.73      0.72      1484\n",
      "\n",
      "    accuracy                           0.72      2965\n",
      "   macro avg       0.72      0.72      0.72      2965\n",
      "weighted avg       0.72      0.72      0.72      2965\n",
      "\n"
     ]
    }
   ],
   "source": [
    "from sklearn.linear_model import LogisticRegression\n",
    "from sklearn.metrics import classification_report\n",
    "\n",
    "# Separate labels\n",
    "y_train = df_train['label']\n",
    "y_val = df_val['label']\n",
    "\n",
    "# Extract BERT features (this will take longer than BoW)\n",
    "X_train, tokenizer, bert_model = extract_bert_features(df_train)\n",
    "X_val, _, _ = extract_bert_features(df_val, tokenizer=tokenizer, model=bert_model)\n",
    "\n",
    "# Optional: Scale features (recommended for BERT)\n",
    "from sklearn.preprocessing import StandardScaler\n",
    "scaler = StandardScaler()\n",
    "X_train_scaled = scaler.fit_transform(X_train)\n",
    "X_val_scaled = scaler.transform(X_val)\n",
    "\n",
    "# Train and evaluate the model\n",
    "model = LogisticRegression(max_iter=1000)\n",
    "model.fit(X_train_scaled, y_train)  # or X_train if not scaling\n",
    "y_pred = model.predict(X_val_scaled)  # or X_val if not scaling\n",
    "\n",
    "print(classification_report(y_val, y_pred))"
   ]
  },
  {
   "cell_type": "code",
   "execution_count": null,
   "id": "4273ab0a",
   "metadata": {},
   "outputs": [],
   "source": []
  }
 ],
 "metadata": {
  "kernelspec": {
   "display_name": "studysession",
   "language": "python",
   "name": "python3"
  },
  "language_info": {
   "codemirror_mode": {
    "name": "ipython",
    "version": 3
   },
   "file_extension": ".py",
   "mimetype": "text/x-python",
   "name": "python",
   "nbconvert_exporter": "python",
   "pygments_lexer": "ipython3",
   "version": "3.11.5"
  }
 },
 "nbformat": 4,
 "nbformat_minor": 5
}
